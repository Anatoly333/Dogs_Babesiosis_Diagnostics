{
  "nbformat": 4,
  "nbformat_minor": 0,
  "metadata": {
    "colab": {
      "name": "Data_generation.ipynb",
      "provenance": [],
      "collapsed_sections": [],
      "authorship_tag": "ABX9TyNVkqPyVwo4npXqUgAWKTnk",
      "include_colab_link": true
    },
    "kernelspec": {
      "name": "python3",
      "display_name": "Python 3"
    },
    "language_info": {
      "name": "python"
    }
  },
  "cells": [
    {
      "cell_type": "markdown",
      "metadata": {
        "id": "view-in-github",
        "colab_type": "text"
      },
      "source": [
        "<a href=\"https://colab.research.google.com/github/Anatoly333/Dogs_Babesiosis_Diagnostics/blob/main/Data_generation.ipynb\" target=\"_parent\"><img src=\"https://colab.research.google.com/assets/colab-badge.svg\" alt=\"Open In Colab\"/></a>"
      ]
    },
    {
      "cell_type": "code",
      "execution_count": null,
      "metadata": {
        "id": "A4wkwY0Vbpl4"
      },
      "outputs": [],
      "source": [
        "# Библиотека для работы с матрицами\n",
        "import numpy as np \n",
        "# Алгоритмы линейной алгебры\n",
        "import scipy.linalg as sla\n",
        "import math\n",
        "import pandas as pd\n",
        "import random\n",
        "import seaborn as sns\n"
      ]
    },
    {
      "cell_type": "code",
      "source": [
        "# Библиотека для работы с матрицами\n",
        "import numpy as np \n",
        "# Алгоритмы линейной алгебры\n",
        "import scipy.linalg as sla\n",
        "import math\n",
        "import pandas as pd\n",
        "import random\n",
        "\n",
        "from sklearn.linear_model import LinearRegression\n",
        "from sklearn.preprocessing import StandardScaler\n",
        "from sklearn.metrics import r2_score\n",
        "from sklearn import svm \n",
        "from sklearn.svm import SVC\n",
        "from sklearn import tree\n",
        "from sklearn.linear_model import SGDClassifier\n",
        "from sklearn.naive_bayes import GaussianNB\n",
        "from sklearn.neighbors import KNeighborsClassifier\n",
        "from sklearn.ensemble import GradientBoostingClassifier\n",
        "import lightgbm as lgb\n",
        "import matplotlib.pyplot as plt\n",
        "from sklearn.linear_model import RidgeCV\n",
        "from sklearn import linear_model\n",
        "from sklearn.preprocessing import MinMaxScaler\n",
        "from sklearn.utils import shuffle\n",
        "from matplotlib import pyplot"
      ],
      "metadata": {
        "id": "84Aj5sVBqF2c"
      },
      "execution_count": null,
      "outputs": []
    },
    {
      "cell_type": "code",
      "source": [
        "data = pd.read_excel('data_all_no_emissions.xlsx')"
      ],
      "metadata": {
        "id": "oPIgGfHZb64y"
      },
      "execution_count": null,
      "outputs": []
    },
    {
      "cell_type": "code",
      "source": [
        "data_2 = pd.read_excel('data_all_no_emissions.xlsx')"
      ],
      "metadata": {
        "id": "T2PSigaTTc0n"
      },
      "execution_count": null,
      "outputs": []
    },
    {
      "cell_type": "code",
      "source": [
        "data_cols = list(data.columns)\n",
        "print('Dataset columns: {}'.format(data_cols))"
      ],
      "metadata": {
        "colab": {
          "base_uri": "https://localhost:8080/"
        },
        "id": "6GD6EF1icF4N",
        "outputId": "a37d1159-febf-46ba-a797-464fa9064dce"
      },
      "execution_count": null,
      "outputs": [
        {
          "output_type": "stream",
          "name": "stdout",
          "text": [
            "Dataset columns: ['Гемоглобин (Hgb)', 'Эритроциты (RBC)', 'Лейкоциты (WBC)', 'Палочкоядерные нейтрофилы (Bands)', 'Сегментоядерные нейтрофилы (Segs)', 'Моноциты (Mono)', 'Тромбоциты (Plt)', 'Средний объем эритроцита (MCV)', 'Болен или нет']\n"
          ]
        }
      ]
    },
    {
      "cell_type": "code",
      "source": [
        "only_sick = data[(data['Болен или нет'] == 1)] #все больные собаки\n",
        "only_health = data[(data['Болен или нет'] == 0)] #вса здоровые собаки\n",
        "\n",
        "y_sick = only_sick['Болен или нет'] \n",
        "x_sick = only_sick.drop(columns=['Болен или нет'])\n",
        "\n",
        "y_health = only_health['Болен или нет']\n",
        "x_health = only_health.drop(columns=['Болен или нет'])\n",
        "\n",
        "sns.displot(x_health)\n",
        "#sns.dsplot(x_sick)"
      ],
      "metadata": {
        "colab": {
          "base_uri": "https://localhost:8080/",
          "height": 387
        },
        "id": "RxsFTg2RdqHg",
        "outputId": "c1c9c415-223e-4513-f31d-c2ca38e3c9a4"
      },
      "execution_count": null,
      "outputs": [
        {
          "output_type": "execute_result",
          "data": {
            "text/plain": [
              "<seaborn.axisgrid.FacetGrid at 0x7f72a6d92350>"
            ]
          },
          "metadata": {},
          "execution_count": 8
        },
        {
          "output_type": "display_data",
          "data": {
            "image/png": "[encoded data removed]",
            "text/plain": [
              "<Figure size 597.25x360 with 1 Axes>"
            ]
          },
          "metadata": {
            "needs_background": "light"
          }
        }
      ]
    },
    {
      "cell_type": "code",
      "source": [
        "only_sick_1 = x_health.iloc[0]\n"
      ],
      "metadata": {
        "id": "iTpPkmqhzjEV"
      },
      "execution_count": null,
      "outputs": []
    },
    {
      "cell_type": "code",
      "source": [
        "pip install -U distfit"
      ],
      "metadata": {
        "colab": {
          "base_uri": "https://localhost:8080/"
        },
        "id": "5QWAhJLqmjtn",
        "outputId": "52902120-bb54-46b1-840c-ea6313a48d46"
      },
      "execution_count": null,
      "outputs": [
        {
          "output_type": "stream",
          "name": "stdout",
          "text": [
            "Collecting distfit\n",
            "  Downloading distfit-1.4.2-py3-none-any.whl (22 kB)\n",
            "Requirement already satisfied: pandas in /usr/local/lib/python3.7/dist-packages (from distfit) (1.3.5)\n",
            "Requirement already satisfied: tqdm in /usr/local/lib/python3.7/dist-packages (from distfit) (4.62.3)\n",
            "Requirement already satisfied: statsmodels in /usr/local/lib/python3.7/dist-packages (from distfit) (0.10.2)\n",
            "Requirement already satisfied: scipy in /usr/local/lib/python3.7/dist-packages (from distfit) (1.4.1)\n",
            "Requirement already satisfied: matplotlib in /usr/local/lib/python3.7/dist-packages (from distfit) (3.2.2)\n",
            "Collecting pypickle\n",
            "  Downloading pypickle-1.0.0-py3-none-any.whl (4.5 kB)\n",
            "Requirement already satisfied: numpy in /usr/local/lib/python3.7/dist-packages (from distfit) (1.21.5)\n",
            "Requirement already satisfied: pyparsing!=2.0.4,!=2.1.2,!=2.1.6,>=2.0.1 in /usr/local/lib/python3.7/dist-packages (from matplotlib->distfit) (3.0.7)\n",
            "Requirement already satisfied: python-dateutil>=2.1 in /usr/local/lib/python3.7/dist-packages (from matplotlib->distfit) (2.8.2)\n",
            "Requirement already satisfied: cycler>=0.10 in /usr/local/lib/python3.7/dist-packages (from matplotlib->distfit) (0.11.0)\n",
            "Requirement already satisfied: kiwisolver>=1.0.1 in /usr/local/lib/python3.7/dist-packages (from matplotlib->distfit) (1.3.2)\n",
            "Requirement already satisfied: six>=1.5 in /usr/local/lib/python3.7/dist-packages (from python-dateutil>=2.1->matplotlib->distfit) (1.15.0)\n",
            "Requirement already satisfied: pytz>=2017.3 in /usr/local/lib/python3.7/dist-packages (from pandas->distfit) (2018.9)\n",
            "Requirement already satisfied: patsy>=0.4.0 in /usr/local/lib/python3.7/dist-packages (from statsmodels->distfit) (0.5.2)\n",
            "Installing collected packages: pypickle, distfit\n",
            "Successfully installed distfit-1.4.2 pypickle-1.0.0\n"
          ]
        }
      ]
    },
    {
      "cell_type": "code",
      "source": [
        "from distfit import distfit"
      ],
      "metadata": {
        "colab": {
          "base_uri": "https://localhost:8080/"
        },
        "id": "eMBYT3-an4dN",
        "outputId": "b37889eb-9541-4132-b508-f45aa9b7f7b1"
      },
      "execution_count": null,
      "outputs": [
        {
          "output_type": "stream",
          "name": "stderr",
          "text": [
            "/usr/local/lib/python3.7/dist-packages/statsmodels/tools/_testing.py:19: FutureWarning: pandas.util.testing is deprecated. Use the functions in the public API at pandas.testing instead.\n",
            "  import pandas.util.testing as tm\n"
          ]
        }
      ]
    },
    {
      "cell_type": "markdown",
      "source": [
        "Общий"
      ],
      "metadata": {
        "id": "oTWJq90fsO0c"
      }
    },
    {
      "cell_type": "code",
      "source": [
        "# Generate test data\n",
        "data1 = np.random.normal(loc=5.0, scale=10, size=1000)\n",
        "\n",
        "# Initialize model\n",
        "dist1 = distfit(bins=25,alpha=0.02,stats='ks')\n",
        "x_health_n = x_health.to_numpy()\n",
        "# Fit\n",
        "dist1.fit_transform(x_health_n,verbose=1)\n",
        "print(type(data1))"
      ],
      "metadata": {
        "colab": {
          "base_uri": "https://localhost:8080/"
        },
        "id": "UILQ9W7GoAU6",
        "outputId": "07227d5c-da26-4906-cf4e-856b67cfa367"
      },
      "execution_count": null,
      "outputs": [
        {
          "output_type": "stream",
          "name": "stdout",
          "text": [
            "<class 'numpy.ndarray'>\n"
          ]
        }
      ]
    },
    {
      "cell_type": "code",
      "source": [
        "dist1.plot(verbose=1)"
      ],
      "metadata": {
        "colab": {
          "base_uri": "https://localhost:8080/",
          "height": 579
        },
        "id": "dkcVZ17qtyke",
        "outputId": "f19731de-59ae-465b-cfc8-33855de28631"
      },
      "execution_count": null,
      "outputs": [
        {
          "output_type": "execute_result",
          "data": {
            "text/plain": [
              "(<Figure size 720x576 with 1 Axes>,\n",
              " <matplotlib.axes._subplots.AxesSubplot at 0x7f64a7194490>)"
            ]
          },
          "metadata": {},
          "execution_count": 56
        },
        {
          "output_type": "display_data",
          "data": {
            "image/png": "[encoded data removed]",
            "text/plain": [
              "<Figure size 720x576 with 1 Axes>"
            ]
          },
          "metadata": {
            "needs_background": "light"
          }
        }
      ]
    },
    {
      "cell_type": "markdown",
      "source": [
        "Лейкциты"
      ],
      "metadata": {
        "id": "rvgMB2rAsATZ"
      }
    },
    {
      "cell_type": "code",
      "source": [
        "names = x_sick.columns\n",
        "x_health_1 = x_sick['Лейкоциты (WBC)']\n",
        "print(x_health_1)\n",
        "\n",
        "# Initialize model\n",
        "dist1 = distfit(bins=25,alpha=0.02,stats='ks', distr='expon')\n",
        "print(x_health_1)\n",
        "# Fit\n",
        "dist1.fit_transform(x_health_1,verbose=1)\n",
        "print(type(data1))\n",
        "\n",
        "print(names)\n"
      ],
      "metadata": {
        "colab": {
          "base_uri": "https://localhost:8080/"
        },
        "id": "8AuQiAHo2T1q",
        "outputId": "3e0b5fd0-d0d5-4733-92c0-23fddad1176f"
      },
      "execution_count": null,
      "outputs": [
        {
          "output_type": "stream",
          "name": "stdout",
          "text": [
            "0      17.6\n",
            "1       3.4\n",
            "2       5.8\n",
            "3       4.7\n",
            "4       5.2\n",
            "       ... \n",
            "131     4.6\n",
            "132    25.3\n",
            "133    11.1\n",
            "134     5.0\n",
            "135     6.4\n",
            "Name: Лейкоциты (WBC), Length: 136, dtype: float64\n",
            "0      17.6\n",
            "1       3.4\n",
            "2       5.8\n",
            "3       4.7\n",
            "4       5.2\n",
            "       ... \n",
            "131     4.6\n",
            "132    25.3\n",
            "133    11.1\n",
            "134     5.0\n",
            "135     6.4\n",
            "Name: Лейкоциты (WBC), Length: 136, dtype: float64\n",
            "<class 'numpy.ndarray'>\n",
            "Index(['Гемоглобин (Hgb)', 'Эритроциты (RBC)', 'Лейкоциты (WBC)',\n",
            "       'Палочкоядерные нейтрофилы (Bands)',\n",
            "       'Сегментоядерные нейтрофилы (Segs)', 'Моноциты (Mono)',\n",
            "       'Тромбоциты (Plt)', 'Средний объем эритроцита (MCV)'],\n",
            "      dtype='object')\n"
          ]
        }
      ]
    },
    {
      "cell_type": "code",
      "source": [
        "dist1.plot(verbose=1)"
      ],
      "metadata": {
        "colab": {
          "base_uri": "https://localhost:8080/",
          "height": 579
        },
        "id": "Ld2uzHFA5BSo",
        "outputId": "8f895d4b-0121-4184-885a-bfa44dfe5f2a"
      },
      "execution_count": null,
      "outputs": [
        {
          "output_type": "execute_result",
          "data": {
            "text/plain": [
              "(<Figure size 720x576 with 1 Axes>,\n",
              " <matplotlib.axes._subplots.AxesSubplot at 0x7f72a2fd0610>)"
            ]
          },
          "metadata": {},
          "execution_count": 49
        },
        {
          "output_type": "display_data",
          "data": {
            "image/png": "[encoded data removed]",
            "text/plain": [
              "<Figure size 720x576 with 1 Axes>"
            ]
          },
          "metadata": {
            "needs_background": "light"
          }
        }
      ]
    },
    {
      "cell_type": "code",
      "source": [
        "dist1.summary"
      ],
      "metadata": {
        "colab": {
          "base_uri": "https://localhost:8080/",
          "height": 81
        },
        "id": "RWrEAn5_t6Ce",
        "outputId": "3af30503-8af8-4793-c268-839260d11c02"
      },
      "execution_count": null,
      "outputs": [
        {
          "output_type": "execute_result",
          "data": {
            "text/html": [
              "\n",
              "  <div id=\"df-e645c3af-f761-442b-9dc4-a1f3a1af3f49\">\n",
              "    <div class=\"colab-df-container\">\n",
              "      <div>\n",
              "<style scoped>\n",
              "    .dataframe tbody tr th:only-of-type {\n",
              "        vertical-align: middle;\n",
              "    }\n",
              "\n",
              "    .dataframe tbody tr th {\n",
              "        vertical-align: top;\n",
              "    }\n",
              "\n",
              "    .dataframe thead th {\n",
              "        text-align: right;\n",
              "    }\n",
              "</style>\n",
              "<table border=\"1\" class=\"dataframe\">\n",
              "  <thead>\n",
              "    <tr style=\"text-align: right;\">\n",
              "      <th></th>\n",
              "      <th>distr</th>\n",
              "      <th>score</th>\n",
              "      <th>LLE</th>\n",
              "      <th>loc</th>\n",
              "      <th>scale</th>\n",
              "      <th>arg</th>\n",
              "    </tr>\n",
              "  </thead>\n",
              "  <tbody>\n",
              "    <tr>\n",
              "      <th>0</th>\n",
              "      <td>expon</td>\n",
              "      <td>1.828622</td>\n",
              "      <td>NaN</td>\n",
              "      <td>1.6</td>\n",
              "      <td>5.221324</td>\n",
              "      <td>()</td>\n",
              "    </tr>\n",
              "  </tbody>\n",
              "</table>\n",
              "</div>\n",
              "      <button class=\"colab-df-convert\" onclick=\"convertToInteractive('df-e645c3af-f761-442b-9dc4-a1f3a1af3f49')\"\n",
              "              title=\"Convert this dataframe to an interactive table.\"\n",
              "              style=\"display:none;\">\n",
              "        \n",
              "  <svg xmlns=\"http://www.w3.org/2000/svg\" height=\"24px\"viewBox=\"0 0 24 24\"\n",
              "       width=\"24px\">\n",
              "    <path d=\"M0 0h24v24H0V0z\" fill=\"none\"/>\n",
              "    <path d=\"M18.56 5.44l.94 2.06.94-2.06 2.06-.94-2.06-.94-.94-2.06-.94 2.06-2.06.94zm-11 1L8.5 8.5l.94-2.06 2.06-.94-2.06-.94L8.5 2.5l-.94 2.06-2.06.94zm10 10l.94 2.06.94-2.06 2.06-.94-2.06-.94-.94-2.06-.94 2.06-2.06.94z\"/><path d=\"M17.41 7.96l-1.37-1.37c-.4-.4-.92-.59-1.43-.59-.52 0-1.04.2-1.43.59L10.3 9.45l-7.72 7.72c-.78.78-.78 2.05 0 2.83L4 21.41c.39.39.9.59 1.41.59.51 0 1.02-.2 1.41-.59l7.78-7.78 2.81-2.81c.8-.78.8-2.07 0-2.86zM5.41 20L4 18.59l7.72-7.72 1.47 1.35L5.41 20z\"/>\n",
              "  </svg>\n",
              "      </button>\n",
              "      \n",
              "  <style>\n",
              "    .colab-df-container {\n",
              "      display:flex;\n",
              "      flex-wrap:wrap;\n",
              "      gap: 12px;\n",
              "    }\n",
              "\n",
              "    .colab-df-convert {\n",
              "      background-color: #E8F0FE;\n",
              "      border: none;\n",
              "      border-radius: 50%;\n",
              "      cursor: pointer;\n",
              "      display: none;\n",
              "      fill: #1967D2;\n",
              "      height: 32px;\n",
              "      padding: 0 0 0 0;\n",
              "      width: 32px;\n",
              "    }\n",
              "\n",
              "    .colab-df-convert:hover {\n",
              "      background-color: #E2EBFA;\n",
              "      box-shadow: 0px 1px 2px rgba(60, 64, 67, 0.3), 0px 1px 3px 1px rgba(60, 64, 67, 0.15);\n",
              "      fill: #174EA6;\n",
              "    }\n",
              "\n",
              "    [theme=dark] .colab-df-convert {\n",
              "      background-color: #3B4455;\n",
              "      fill: #D2E3FC;\n",
              "    }\n",
              "\n",
              "    [theme=dark] .colab-df-convert:hover {\n",
              "      background-color: #434B5C;\n",
              "      box-shadow: 0px 1px 3px 1px rgba(0, 0, 0, 0.15);\n",
              "      filter: drop-shadow(0px 1px 2px rgba(0, 0, 0, 0.3));\n",
              "      fill: #FFFFFF;\n",
              "    }\n",
              "  </style>\n",
              "\n",
              "      <script>\n",
              "        const buttonEl =\n",
              "          document.querySelector('#df-e645c3af-f761-442b-9dc4-a1f3a1af3f49 button.colab-df-convert');\n",
              "        buttonEl.style.display =\n",
              "          google.colab.kernel.accessAllowed ? 'block' : 'none';\n",
              "\n",
              "        async function convertToInteractive(key) {\n",
              "          const element = document.querySelector('#df-e645c3af-f761-442b-9dc4-a1f3a1af3f49');\n",
              "          const dataTable =\n",
              "            await google.colab.kernel.invokeFunction('convertToInteractive',\n",
              "                                                     [key], {});\n",
              "          if (!dataTable) return;\n",
              "\n",
              "          const docLinkHtml = 'Like what you see? Visit the ' +\n",
              "            '<a target=\"_blank\" href=https://colab.research.google.com/notebooks/data_table.ipynb>data table notebook</a>'\n",
              "            + ' to learn more about interactive tables.';\n",
              "          element.innerHTML = '';\n",
              "          dataTable['output_type'] = 'display_data';\n",
              "          await google.colab.output.renderOutput(dataTable, element);\n",
              "          const docLink = document.createElement('div');\n",
              "          docLink.innerHTML = docLinkHtml;\n",
              "          element.appendChild(docLink);\n",
              "        }\n",
              "      </script>\n",
              "    </div>\n",
              "  </div>\n",
              "  "
            ],
            "text/plain": [
              "   distr     score  LLE  loc     scale arg\n",
              "0  expon  1.828622  NaN  1.6  5.221324  ()"
            ]
          },
          "metadata": {},
          "execution_count": 50
        }
      ]
    },
    {
      "cell_type": "code",
      "source": [
        "df = pd.DataFrame()\n",
        "data_wbc = dist1.generate(n=100)\n",
        "df['Лейкоциты (WBC)'] = data_wbc.tolist()\n",
        "print(df)"
      ],
      "metadata": {
        "colab": {
          "base_uri": "https://localhost:8080/"
        },
        "id": "im73WTb4wt2m",
        "outputId": "462bd0b6-4824-4fd7-9862-1932970b72b8"
      },
      "execution_count": null,
      "outputs": [
        {
          "output_type": "stream",
          "name": "stdout",
          "text": [
            "[distfit] >Generate 100 expon distributed samples with fitted params (1.6, 5.221323529411764).\n",
            "    Лейкоциты (WBC)\n",
            "0          7.117894\n",
            "1          2.684016\n",
            "2          2.175805\n",
            "3         18.869148\n",
            "4         13.314418\n",
            "..              ...\n",
            "95         2.027713\n",
            "96        13.186083\n",
            "97         6.797947\n",
            "98        15.071305\n",
            "99         5.462288\n",
            "\n",
            "[100 rows x 1 columns]\n"
          ]
        }
      ]
    },
    {
      "cell_type": "markdown",
      "source": [
        "Гемоглабин"
      ],
      "metadata": {
        "id": "WSjBc92bsFbg"
      }
    },
    {
      "cell_type": "code",
      "source": [
        "names = x_sick.columns\n",
        "x_health_1 = x_sick['Гемоглобин (Hgb)']\n",
        "print(x_health_1)\n",
        "\n",
        "# Initialize model\n",
        "dist1 = distfit(bins=25,alpha=0.02,stats='ks', distr = 'dweibull')\n",
        "print(x_health_1)\n",
        "# Fit\n",
        "dist1.fit_transform(x_health_1,verbose=1)\n",
        "print(type(data1))\n",
        "\n",
        "print(names)\n"
      ],
      "metadata": {
        "colab": {
          "base_uri": "https://localhost:8080/"
        },
        "id": "am1j0DhsjkR4",
        "outputId": "8e2a9d08-5028-4cee-ae20-36a5d4c5a945"
      },
      "execution_count": null,
      "outputs": [
        {
          "output_type": "stream",
          "name": "stdout",
          "text": [
            "0       95\n",
            "1      146\n",
            "2      130\n",
            "3      105\n",
            "4      165\n",
            "      ... \n",
            "131     73\n",
            "132     81\n",
            "133    102\n",
            "134    136\n",
            "135     41\n",
            "Name: Гемоглобин (Hgb), Length: 136, dtype: int64\n",
            "0       95\n",
            "1      146\n",
            "2      130\n",
            "3      105\n",
            "4      165\n",
            "      ... \n",
            "131     73\n",
            "132     81\n",
            "133    102\n",
            "134    136\n",
            "135     41\n",
            "Name: Гемоглобин (Hgb), Length: 136, dtype: int64\n",
            "<class 'numpy.ndarray'>\n",
            "Index(['Гемоглобин (Hgb)', 'Эритроциты (RBC)', 'Лейкоциты (WBC)',\n",
            "       'Палочкоядерные нейтрофилы (Bands)',\n",
            "       'Сегментоядерные нейтрофилы (Segs)', 'Моноциты (Mono)',\n",
            "       'Тромбоциты (Plt)', 'Средний объем эритроцита (MCV)'],\n",
            "      dtype='object')\n"
          ]
        }
      ]
    },
    {
      "cell_type": "code",
      "source": [
        "dist1.plot(verbose=1)"
      ],
      "metadata": {
        "colab": {
          "base_uri": "https://localhost:8080/",
          "height": 579
        },
        "id": "Lpnh3DzyjxAJ",
        "outputId": "97fb946a-b574-4a52-e96b-34cc7095db50"
      },
      "execution_count": null,
      "outputs": [
        {
          "output_type": "execute_result",
          "data": {
            "text/plain": [
              "(<Figure size 720x576 with 1 Axes>,\n",
              " <matplotlib.axes._subplots.AxesSubplot at 0x7f72a2f47a90>)"
            ]
          },
          "metadata": {},
          "execution_count": 53
        },
        {
          "output_type": "display_data",
          "data": {
            "image/png": "[encoded data removed]",
            "text/plain": [
              "<Figure size 720x576 with 1 Axes>"
            ]
          },
          "metadata": {
            "needs_background": "light"
          }
        }
      ]
    },
    {
      "cell_type": "code",
      "source": [
        "dist1.summary"
      ],
      "metadata": {
        "colab": {
          "base_uri": "https://localhost:8080/",
          "height": 81
        },
        "id": "jTJ9ktO1j6fY",
        "outputId": "89ebdd47-daf8-484a-b1b6-a08a2813e4d5"
      },
      "execution_count": null,
      "outputs": [
        {
          "output_type": "execute_result",
          "data": {
            "text/html": [
              "\n",
              "  <div id=\"df-271c77e7-5d08-49e3-8d87-bac7015bcf96\">\n",
              "    <div class=\"colab-df-container\">\n",
              "      <div>\n",
              "<style scoped>\n",
              "    .dataframe tbody tr th:only-of-type {\n",
              "        vertical-align: middle;\n",
              "    }\n",
              "\n",
              "    .dataframe tbody tr th {\n",
              "        vertical-align: top;\n",
              "    }\n",
              "\n",
              "    .dataframe thead th {\n",
              "        text-align: right;\n",
              "    }\n",
              "</style>\n",
              "<table border=\"1\" class=\"dataframe\">\n",
              "  <thead>\n",
              "    <tr style=\"text-align: right;\">\n",
              "      <th></th>\n",
              "      <th>distr</th>\n",
              "      <th>score</th>\n",
              "      <th>LLE</th>\n",
              "      <th>loc</th>\n",
              "      <th>scale</th>\n",
              "      <th>arg</th>\n",
              "    </tr>\n",
              "  </thead>\n",
              "  <tbody>\n",
              "    <tr>\n",
              "      <th>0</th>\n",
              "      <td>dweibull</td>\n",
              "      <td>0.038582</td>\n",
              "      <td>NaN</td>\n",
              "      <td>120.311442</td>\n",
              "      <td>23.2607</td>\n",
              "      <td>(1.093211317908204,)</td>\n",
              "    </tr>\n",
              "  </tbody>\n",
              "</table>\n",
              "</div>\n",
              "      <button class=\"colab-df-convert\" onclick=\"convertToInteractive('df-271c77e7-5d08-49e3-8d87-bac7015bcf96')\"\n",
              "              title=\"Convert this dataframe to an interactive table.\"\n",
              "              style=\"display:none;\">\n",
              "        \n",
              "  <svg xmlns=\"http://www.w3.org/2000/svg\" height=\"24px\"viewBox=\"0 0 24 24\"\n",
              "       width=\"24px\">\n",
              "    <path d=\"M0 0h24v24H0V0z\" fill=\"none\"/>\n",
              "    <path d=\"M18.56 5.44l.94 2.06.94-2.06 2.06-.94-2.06-.94-.94-2.06-.94 2.06-2.06.94zm-11 1L8.5 8.5l.94-2.06 2.06-.94-2.06-.94L8.5 2.5l-.94 2.06-2.06.94zm10 10l.94 2.06.94-2.06 2.06-.94-2.06-.94-.94-2.06-.94 2.06-2.06.94z\"/><path d=\"M17.41 7.96l-1.37-1.37c-.4-.4-.92-.59-1.43-.59-.52 0-1.04.2-1.43.59L10.3 9.45l-7.72 7.72c-.78.78-.78 2.05 0 2.83L4 21.41c.39.39.9.59 1.41.59.51 0 1.02-.2 1.41-.59l7.78-7.78 2.81-2.81c.8-.78.8-2.07 0-2.86zM5.41 20L4 18.59l7.72-7.72 1.47 1.35L5.41 20z\"/>\n",
              "  </svg>\n",
              "      </button>\n",
              "      \n",
              "  <style>\n",
              "    .colab-df-container {\n",
              "      display:flex;\n",
              "      flex-wrap:wrap;\n",
              "      gap: 12px;\n",
              "    }\n",
              "\n",
              "    .colab-df-convert {\n",
              "      background-color: #E8F0FE;\n",
              "      border: none;\n",
              "      border-radius: 50%;\n",
              "      cursor: pointer;\n",
              "      display: none;\n",
              "      fill: #1967D2;\n",
              "      height: 32px;\n",
              "      padding: 0 0 0 0;\n",
              "      width: 32px;\n",
              "    }\n",
              "\n",
              "    .colab-df-convert:hover {\n",
              "      background-color: #E2EBFA;\n",
              "      box-shadow: 0px 1px 2px rgba(60, 64, 67, 0.3), 0px 1px 3px 1px rgba(60, 64, 67, 0.15);\n",
              "      fill: #174EA6;\n",
              "    }\n",
              "\n",
              "    [theme=dark] .colab-df-convert {\n",
              "      background-color: #3B4455;\n",
              "      fill: #D2E3FC;\n",
              "    }\n",
              "\n",
              "    [theme=dark] .colab-df-convert:hover {\n",
              "      background-color: #434B5C;\n",
              "      box-shadow: 0px 1px 3px 1px rgba(0, 0, 0, 0.15);\n",
              "      filter: drop-shadow(0px 1px 2px rgba(0, 0, 0, 0.3));\n",
              "      fill: #FFFFFF;\n",
              "    }\n",
              "  </style>\n",
              "\n",
              "      <script>\n",
              "        const buttonEl =\n",
              "          document.querySelector('#df-271c77e7-5d08-49e3-8d87-bac7015bcf96 button.colab-df-convert');\n",
              "        buttonEl.style.display =\n",
              "          google.colab.kernel.accessAllowed ? 'block' : 'none';\n",
              "\n",
              "        async function convertToInteractive(key) {\n",
              "          const element = document.querySelector('#df-271c77e7-5d08-49e3-8d87-bac7015bcf96');\n",
              "          const dataTable =\n",
              "            await google.colab.kernel.invokeFunction('convertToInteractive',\n",
              "                                                     [key], {});\n",
              "          if (!dataTable) return;\n",
              "\n",
              "          const docLinkHtml = 'Like what you see? Visit the ' +\n",
              "            '<a target=\"_blank\" href=https://colab.research.google.com/notebooks/data_table.ipynb>data table notebook</a>'\n",
              "            + ' to learn more about interactive tables.';\n",
              "          element.innerHTML = '';\n",
              "          dataTable['output_type'] = 'display_data';\n",
              "          await google.colab.output.renderOutput(dataTable, element);\n",
              "          const docLink = document.createElement('div');\n",
              "          docLink.innerHTML = docLinkHtml;\n",
              "          element.appendChild(docLink);\n",
              "        }\n",
              "      </script>\n",
              "    </div>\n",
              "  </div>\n",
              "  "
            ],
            "text/plain": [
              "      distr     score  LLE         loc    scale                   arg\n",
              "0  dweibull  0.038582  NaN  120.311442  23.2607  (1.093211317908204,)"
            ]
          },
          "metadata": {},
          "execution_count": 54
        }
      ]
    },
    {
      "cell_type": "code",
      "source": [
        "dist1.generate(n=100)"
      ],
      "metadata": {
        "colab": {
          "base_uri": "https://localhost:8080/"
        },
        "id": "KDNvftMKkyxA",
        "outputId": "2383b31c-6043-4ce4-d993-0d15cb4b7b5e"
      },
      "execution_count": null,
      "outputs": [
        {
          "output_type": "stream",
          "name": "stdout",
          "text": [
            "[distfit] >Generate 100 dweibull distributed samples with fitted params (1.093211317908204, 120.31144179390415, 23.260700168446967).\n"
          ]
        },
        {
          "output_type": "execute_result",
          "data": {
            "text/plain": [
              "array([144.90058589, 110.34659504, 100.86838809, 141.1683514 ,\n",
              "        45.57556925,  66.40753724, 190.81381193, 145.13352987,\n",
              "       131.13143977, 107.76463246, 109.52715062, 155.80188827,\n",
              "        55.67245924, 128.15197577, 154.94543516, 140.55394428,\n",
              "       101.50508182, 145.43795079, 125.42639028, 129.25967257,\n",
              "       110.5262135 ,  98.6890344 , 100.73579816, 249.13723799,\n",
              "       119.95588809, 139.86020594, 120.15488137, 160.09467561,\n",
              "       126.14376371, 117.54948627,  74.35936479,  83.50781044,\n",
              "        -5.88107314,  94.42617455, 125.71856586,  96.59061719,\n",
              "       139.12619749, 116.61637465,  93.21254147,  97.48151799,\n",
              "       165.53190665, 132.91732003, 128.66655369, 143.6448841 ,\n",
              "       134.88460868, 109.78975332,  88.4760633 , 118.80436947,\n",
              "       197.75244346, 124.59144616, 151.99597777, 106.93731362,\n",
              "       130.96964992, 117.75845677, 110.24475252,  98.07619385,\n",
              "       130.26587295, 160.5968958 , 116.45830036,  84.91367161,\n",
              "        99.82368865, 172.38245296, 129.8354717 , 116.88831583,\n",
              "       117.82272775, 160.20530304, 102.62300238, 150.93363983,\n",
              "       103.21765443, 149.75874353, 176.05407752,  98.17569548,\n",
              "        88.76025639, 114.43067914, 140.66835089, 112.47695533,\n",
              "       104.31520868, 122.96215112, 129.19460646, 179.50129857,\n",
              "       133.48191457, 172.07199587, 154.07068351, 146.83599869,\n",
              "       107.64783282, 121.10641606, 180.24873912, 136.39187676,\n",
              "        71.91157514, 143.29643165,  61.63405541, 125.3790831 ,\n",
              "       134.67583351, 100.85312538, 118.24641997, 110.48293216,\n",
              "       122.04359343, 145.52930187,  85.4006186 , 109.75943983])"
            ]
          },
          "metadata": {},
          "execution_count": 57
        }
      ]
    },
    {
      "cell_type": "code",
      "source": [
        "data_wbc = dist1.generate(n=100)\n",
        "df['Гемоглобин (Hgb)'] = data_wbc.tolist()\n",
        "print(df)"
      ],
      "metadata": {
        "colab": {
          "base_uri": "https://localhost:8080/"
        },
        "id": "3g572fnlWEyE",
        "outputId": "66a02e49-fa9c-4bd8-fc8d-092c28c8b1c4"
      },
      "execution_count": null,
      "outputs": [
        {
          "output_type": "stream",
          "name": "stdout",
          "text": [
            "[distfit] >Generate 100 dweibull distributed samples with fitted params (1.093211317908204, 120.31144179390415, 23.260700168446967).\n",
            "    Лейкоциты (WBC)  Гемоглобин (Hgb)\n",
            "0          7.117894        120.995047\n",
            "1          2.684016        120.027407\n",
            "2          2.175805        129.012750\n",
            "3         18.869148        103.128156\n",
            "4         13.314418        152.398369\n",
            "..              ...               ...\n",
            "95         2.027713        126.238902\n",
            "96        13.186083        112.478652\n",
            "97         6.797947        129.240835\n",
            "98        15.071305        107.008969\n",
            "99         5.462288        144.319728\n",
            "\n",
            "[100 rows x 2 columns]\n"
          ]
        }
      ]
    },
    {
      "cell_type": "markdown",
      "source": [
        "Эритроциты"
      ],
      "metadata": {
        "id": "vjUX4u51sI-t"
      }
    },
    {
      "cell_type": "code",
      "source": [
        "names = x_sick.columns\n",
        "x_health_1 = x_sick['Эритроциты (RBC)']\n",
        "print(x_health_1)\n",
        "\n",
        "# Initialize model\n",
        "dist1 = distfit(bins=25,alpha=0.02,stats='ks', distr = 'dweibull')\n",
        "print(x_health_1)\n",
        "# Fit\n",
        "dist1.fit_transform(x_health_1,verbose=1)\n",
        "print(type(data1))\n",
        "\n",
        "print(names)"
      ],
      "metadata": {
        "colab": {
          "base_uri": "https://localhost:8080/"
        },
        "id": "cmBkrMqHsd6N",
        "outputId": "fe986db9-28d3-4115-8ee6-7c8ae401dd37"
      },
      "execution_count": null,
      "outputs": [
        {
          "output_type": "stream",
          "name": "stdout",
          "text": [
            "0      3.63\n",
            "1      5.67\n",
            "2      6.04\n",
            "3      4.42\n",
            "4      6.42\n",
            "       ... \n",
            "131    3.35\n",
            "132    3.10\n",
            "133    4.46\n",
            "134    5.45\n",
            "135    1.83\n",
            "Name: Эритроциты (RBC), Length: 136, dtype: float64\n",
            "0      3.63\n",
            "1      5.67\n",
            "2      6.04\n",
            "3      4.42\n",
            "4      6.42\n",
            "       ... \n",
            "131    3.35\n",
            "132    3.10\n",
            "133    4.46\n",
            "134    5.45\n",
            "135    1.83\n",
            "Name: Эритроциты (RBC), Length: 136, dtype: float64\n",
            "<class 'numpy.ndarray'>\n",
            "Index(['Гемоглобин (Hgb)', 'Эритроциты (RBC)', 'Лейкоциты (WBC)',\n",
            "       'Палочкоядерные нейтрофилы (Bands)',\n",
            "       'Сегментоядерные нейтрофилы (Segs)', 'Моноциты (Mono)',\n",
            "       'Тромбоциты (Plt)', 'Средний объем эритроцита (MCV)'],\n",
            "      dtype='object')\n"
          ]
        }
      ]
    },
    {
      "cell_type": "code",
      "source": [
        "dist1.plot(verbose=1)"
      ],
      "metadata": {
        "colab": {
          "base_uri": "https://localhost:8080/",
          "height": 579
        },
        "id": "ch_mEz83s-vC",
        "outputId": "8c329925-29bb-4fa8-bb34-51b2b56d419d"
      },
      "execution_count": null,
      "outputs": [
        {
          "output_type": "execute_result",
          "data": {
            "text/plain": [
              "(<Figure size 720x576 with 1 Axes>,\n",
              " <matplotlib.axes._subplots.AxesSubplot at 0x7f72a2ed5ad0>)"
            ]
          },
          "metadata": {},
          "execution_count": 66
        },
        {
          "output_type": "display_data",
          "data": {
            "image/png": "[encoded data removed]",
            "text/plain": [
              "<Figure size 720x576 with 1 Axes>"
            ]
          },
          "metadata": {
            "needs_background": "light"
          }
        }
      ]
    },
    {
      "cell_type": "code",
      "source": [
        "dist1.summary"
      ],
      "metadata": {
        "colab": {
          "base_uri": "https://localhost:8080/",
          "height": 81
        },
        "id": "tYksPYa3taqm",
        "outputId": "c2f63b6e-0f66-42de-9d2d-d011d4b2c331"
      },
      "execution_count": null,
      "outputs": [
        {
          "output_type": "execute_result",
          "data": {
            "text/html": [
              "\n",
              "  <div id=\"df-1a113ca4-ed48-4f14-a3ae-dff7ba7015b4\">\n",
              "    <div class=\"colab-df-container\">\n",
              "      <div>\n",
              "<style scoped>\n",
              "    .dataframe tbody tr th:only-of-type {\n",
              "        vertical-align: middle;\n",
              "    }\n",
              "\n",
              "    .dataframe tbody tr th {\n",
              "        vertical-align: top;\n",
              "    }\n",
              "\n",
              "    .dataframe thead th {\n",
              "        text-align: right;\n",
              "    }\n",
              "</style>\n",
              "<table border=\"1\" class=\"dataframe\">\n",
              "  <thead>\n",
              "    <tr style=\"text-align: right;\">\n",
              "      <th></th>\n",
              "      <th>distr</th>\n",
              "      <th>score</th>\n",
              "      <th>LLE</th>\n",
              "      <th>loc</th>\n",
              "      <th>scale</th>\n",
              "      <th>arg</th>\n",
              "    </tr>\n",
              "  </thead>\n",
              "  <tbody>\n",
              "    <tr>\n",
              "      <th>0</th>\n",
              "      <td>dweibull</td>\n",
              "      <td>0.148617</td>\n",
              "      <td>NaN</td>\n",
              "      <td>4.942392</td>\n",
              "      <td>1.035217</td>\n",
              "      <td>(1.2246346987535612,)</td>\n",
              "    </tr>\n",
              "  </tbody>\n",
              "</table>\n",
              "</div>\n",
              "      <button class=\"colab-df-convert\" onclick=\"convertToInteractive('df-1a113ca4-ed48-4f14-a3ae-dff7ba7015b4')\"\n",
              "              title=\"Convert this dataframe to an interactive table.\"\n",
              "              style=\"display:none;\">\n",
              "        \n",
              "  <svg xmlns=\"http://www.w3.org/2000/svg\" height=\"24px\"viewBox=\"0 0 24 24\"\n",
              "       width=\"24px\">\n",
              "    <path d=\"M0 0h24v24H0V0z\" fill=\"none\"/>\n",
              "    <path d=\"M18.56 5.44l.94 2.06.94-2.06 2.06-.94-2.06-.94-.94-2.06-.94 2.06-2.06.94zm-11 1L8.5 8.5l.94-2.06 2.06-.94-2.06-.94L8.5 2.5l-.94 2.06-2.06.94zm10 10l.94 2.06.94-2.06 2.06-.94-2.06-.94-.94-2.06-.94 2.06-2.06.94z\"/><path d=\"M17.41 7.96l-1.37-1.37c-.4-.4-.92-.59-1.43-.59-.52 0-1.04.2-1.43.59L10.3 9.45l-7.72 7.72c-.78.78-.78 2.05 0 2.83L4 21.41c.39.39.9.59 1.41.59.51 0 1.02-.2 1.41-.59l7.78-7.78 2.81-2.81c.8-.78.8-2.07 0-2.86zM5.41 20L4 18.59l7.72-7.72 1.47 1.35L5.41 20z\"/>\n",
              "  </svg>\n",
              "      </button>\n",
              "      \n",
              "  <style>\n",
              "    .colab-df-container {\n",
              "      display:flex;\n",
              "      flex-wrap:wrap;\n",
              "      gap: 12px;\n",
              "    }\n",
              "\n",
              "    .colab-df-convert {\n",
              "      background-color: #E8F0FE;\n",
              "      border: none;\n",
              "      border-radius: 50%;\n",
              "      cursor: pointer;\n",
              "      display: none;\n",
              "      fill: #1967D2;\n",
              "      height: 32px;\n",
              "      padding: 0 0 0 0;\n",
              "      width: 32px;\n",
              "    }\n",
              "\n",
              "    .colab-df-convert:hover {\n",
              "      background-color: #E2EBFA;\n",
              "      box-shadow: 0px 1px 2px rgba(60, 64, 67, 0.3), 0px 1px 3px 1px rgba(60, 64, 67, 0.15);\n",
              "      fill: #174EA6;\n",
              "    }\n",
              "\n",
              "    [theme=dark] .colab-df-convert {\n",
              "      background-color: #3B4455;\n",
              "      fill: #D2E3FC;\n",
              "    }\n",
              "\n",
              "    [theme=dark] .colab-df-convert:hover {\n",
              "      background-color: #434B5C;\n",
              "      box-shadow: 0px 1px 3px 1px rgba(0, 0, 0, 0.15);\n",
              "      filter: drop-shadow(0px 1px 2px rgba(0, 0, 0, 0.3));\n",
              "      fill: #FFFFFF;\n",
              "    }\n",
              "  </style>\n",
              "\n",
              "      <script>\n",
              "        const buttonEl =\n",
              "          document.querySelector('#df-1a113ca4-ed48-4f14-a3ae-dff7ba7015b4 button.colab-df-convert');\n",
              "        buttonEl.style.display =\n",
              "          google.colab.kernel.accessAllowed ? 'block' : 'none';\n",
              "\n",
              "        async function convertToInteractive(key) {\n",
              "          const element = document.querySelector('#df-1a113ca4-ed48-4f14-a3ae-dff7ba7015b4');\n",
              "          const dataTable =\n",
              "            await google.colab.kernel.invokeFunction('convertToInteractive',\n",
              "                                                     [key], {});\n",
              "          if (!dataTable) return;\n",
              "\n",
              "          const docLinkHtml = 'Like what you see? Visit the ' +\n",
              "            '<a target=\"_blank\" href=https://colab.research.google.com/notebooks/data_table.ipynb>data table notebook</a>'\n",
              "            + ' to learn more about interactive tables.';\n",
              "          element.innerHTML = '';\n",
              "          dataTable['output_type'] = 'display_data';\n",
              "          await google.colab.output.renderOutput(dataTable, element);\n",
              "          const docLink = document.createElement('div');\n",
              "          docLink.innerHTML = docLinkHtml;\n",
              "          element.appendChild(docLink);\n",
              "        }\n",
              "      </script>\n",
              "    </div>\n",
              "  </div>\n",
              "  "
            ],
            "text/plain": [
              "      distr     score  LLE       loc     scale                    arg\n",
              "0  dweibull  0.148617  NaN  4.942392  1.035217  (1.2246346987535612,)"
            ]
          },
          "metadata": {},
          "execution_count": 27
        }
      ]
    },
    {
      "cell_type": "code",
      "source": [
        "dist1.generate(n=100)"
      ],
      "metadata": {
        "colab": {
          "base_uri": "https://localhost:8080/"
        },
        "id": "HlQH9MlutZPW",
        "outputId": "946c219d-870a-49cc-f187-9b7a54cb77ea"
      },
      "execution_count": null,
      "outputs": [
        {
          "output_type": "stream",
          "name": "stdout",
          "text": [
            "[distfit] >Generate 100 dweibull distributed samples with fitted params (1.2246346987535612, 4.942392225966504, 1.0352165613054696).\n"
          ]
        },
        {
          "output_type": "execute_result",
          "data": {
            "text/plain": [
              "array([4.63586208, 5.05724816, 6.47006567, 3.6385944 , 7.16477911,\n",
              "       4.64848364, 6.12002935, 4.01278961, 4.29348183, 5.67858976,\n",
              "       3.86701767, 6.1328183 , 6.84361164, 3.66376094, 6.00104245,\n",
              "       4.01490422, 5.64803036, 5.05083321, 4.59241341, 3.7687804 ,\n",
              "       5.1790498 , 5.76889845, 6.66342292, 6.39236058, 7.76791734,\n",
              "       6.15402179, 3.62636343, 7.70584842, 5.47722438, 5.80836496,\n",
              "       5.69923423, 7.00943168, 3.88480152, 4.40816305, 6.52972295,\n",
              "       4.03894523, 4.9468298 , 5.42035705, 3.90275247, 4.83992259,\n",
              "       5.83668307, 4.07518071, 5.36801188, 6.56721707, 4.13908127,\n",
              "       4.71770765, 2.65695558, 3.01655592, 4.05312649, 2.71766857,\n",
              "       3.40776149, 4.41838356, 5.49191936, 7.58906635, 6.40592646,\n",
              "       4.99286372, 6.14801473, 5.29935575, 7.15517262, 5.36607625,\n",
              "       4.99862893, 6.13478159, 3.65987207, 6.43799731, 4.14515587,\n",
              "       6.73997651, 5.9040073 , 5.59669629, 4.5985507 , 6.34361138,\n",
              "       4.08057076, 4.28558042, 6.58046714, 6.52926848, 5.01230075,\n",
              "       3.87734878, 5.89715594, 5.0744083 , 5.21604012, 5.57672601,\n",
              "       4.62482025, 5.05633203, 5.85043902, 5.55118654, 5.52768766,\n",
              "       4.39161716, 5.35018153, 5.91963854, 4.67315523, 7.42617855,\n",
              "       3.6058286 , 6.28599346, 6.46510966, 2.53540925, 4.51549989,\n",
              "       3.95791027, 4.42037725, 6.13337839, 4.07302683, 5.70265196])"
            ]
          },
          "metadata": {},
          "execution_count": 67
        }
      ]
    },
    {
      "cell_type": "code",
      "source": [
        "data_wbc = dist1.generate(n=100)\n",
        "df['Эритроциты (RBC)'] = data_wbc.tolist()\n",
        "print(df)"
      ],
      "metadata": {
        "colab": {
          "base_uri": "https://localhost:8080/"
        },
        "id": "U90IXbHOWNis",
        "outputId": "b3659cdd-94aa-4b3e-cb54-daca1f87d9bf"
      },
      "execution_count": null,
      "outputs": [
        {
          "output_type": "stream",
          "name": "stdout",
          "text": [
            "[distfit] >Generate 100 dweibull distributed samples with fitted params (1.2246346987535612, 4.942392225966504, 1.0352165613054696).\n",
            "    Лейкоциты (WBC)  Гемоглобин (Hgb)  Эритроциты (RBC)\n",
            "0          7.117894        120.995047          3.045004\n",
            "1          2.684016        120.027407          4.704464\n",
            "2          2.175805        129.012750          4.437079\n",
            "3         18.869148        103.128156          6.036878\n",
            "4         13.314418        152.398369          2.215141\n",
            "..              ...               ...               ...\n",
            "95         2.027713        126.238902          4.925600\n",
            "96        13.186083        112.478652          3.200295\n",
            "97         6.797947        129.240835          4.415116\n",
            "98        15.071305        107.008969          4.614045\n",
            "99         5.462288        144.319728          5.588760\n",
            "\n",
            "[100 rows x 3 columns]\n"
          ]
        }
      ]
    },
    {
      "cell_type": "markdown",
      "source": [
        "Палочкодерные нейтрофилы"
      ],
      "metadata": {
        "id": "xjFgkU8kvPbg"
      }
    },
    {
      "cell_type": "code",
      "source": [
        "names = x_sick.columns\n",
        "x_health_1 = x_sick['Палочкоядерные нейтрофилы (Bands)']\n",
        "print(x_health_1)\n",
        "\n",
        "# Initialize model\n",
        "dist1 = distfit(bins=25,alpha=0.02,stats='ks', distr = 'pareto')\n",
        "print(x_health_1)\n",
        "# Fit\n",
        "dist1.fit_transform(x_health_1,verbose=1)\n",
        "print(type(data1))\n",
        "\n",
        "print(names)"
      ],
      "metadata": {
        "colab": {
          "base_uri": "https://localhost:8080/"
        },
        "id": "h09Pf1UzvUSL",
        "outputId": "d5e7b149-3439-4520-a845-c4b9486ed2f3"
      },
      "execution_count": null,
      "outputs": [
        {
          "output_type": "stream",
          "name": "stdout",
          "text": [
            "0       5\n",
            "1       0\n",
            "2       3\n",
            "3       1\n",
            "4       0\n",
            "       ..\n",
            "131     2\n",
            "132    26\n",
            "133    13\n",
            "134     2\n",
            "135     3\n",
            "Name: Палочкоядерные нейтрофилы (Bands), Length: 136, dtype: int64\n",
            "0       5\n",
            "1       0\n",
            "2       3\n",
            "3       1\n",
            "4       0\n",
            "       ..\n",
            "131     2\n",
            "132    26\n",
            "133    13\n",
            "134     2\n",
            "135     3\n",
            "Name: Палочкоядерные нейтрофилы (Bands), Length: 136, dtype: int64\n",
            "<class 'numpy.ndarray'>\n",
            "Index(['Гемоглобин (Hgb)', 'Эритроциты (RBC)', 'Лейкоциты (WBC)',\n",
            "       'Палочкоядерные нейтрофилы (Bands)',\n",
            "       'Сегментоядерные нейтрофилы (Segs)', 'Моноциты (Mono)',\n",
            "       'Тромбоциты (Plt)', 'Средний объем эритроцита (MCV)'],\n",
            "      dtype='object')\n"
          ]
        }
      ]
    },
    {
      "cell_type": "code",
      "source": [
        "dist1.plot(verbose=1)"
      ],
      "metadata": {
        "colab": {
          "base_uri": "https://localhost:8080/",
          "height": 579
        },
        "id": "DQ2icTfevfSl",
        "outputId": "952d9357-e637-48de-d4fc-950683a1201c"
      },
      "execution_count": null,
      "outputs": [
        {
          "output_type": "execute_result",
          "data": {
            "text/plain": [
              "(<Figure size 720x576 with 1 Axes>,\n",
              " <matplotlib.axes._subplots.AxesSubplot at 0x7f72a2e0d850>)"
            ]
          },
          "metadata": {},
          "execution_count": 70
        },
        {
          "output_type": "display_data",
          "data": {
            "image/png": "[encoded data removed]",
            "text/plain": [
              "<Figure size 720x576 with 1 Axes>"
            ]
          },
          "metadata": {
            "needs_background": "light"
          }
        }
      ]
    },
    {
      "cell_type": "code",
      "source": [
        "dist1.summary"
      ],
      "metadata": {
        "colab": {
          "base_uri": "https://localhost:8080/",
          "height": 81
        },
        "id": "FidLBXxRw92I",
        "outputId": "04ed7bad-f318-4100-ba0f-7a4f88f89f64"
      },
      "execution_count": null,
      "outputs": [
        {
          "output_type": "execute_result",
          "data": {
            "text/html": [
              "\n",
              "  <div id=\"df-bf8de433-c07e-4fc7-beb8-fba78ef2e1dd\">\n",
              "    <div class=\"colab-df-container\">\n",
              "      <div>\n",
              "<style scoped>\n",
              "    .dataframe tbody tr th:only-of-type {\n",
              "        vertical-align: middle;\n",
              "    }\n",
              "\n",
              "    .dataframe tbody tr th {\n",
              "        vertical-align: top;\n",
              "    }\n",
              "\n",
              "    .dataframe thead th {\n",
              "        text-align: right;\n",
              "    }\n",
              "</style>\n",
              "<table border=\"1\" class=\"dataframe\">\n",
              "  <thead>\n",
              "    <tr style=\"text-align: right;\">\n",
              "      <th></th>\n",
              "      <th>distr</th>\n",
              "      <th>score</th>\n",
              "      <th>LLE</th>\n",
              "      <th>loc</th>\n",
              "      <th>scale</th>\n",
              "      <th>arg</th>\n",
              "    </tr>\n",
              "  </thead>\n",
              "  <tbody>\n",
              "    <tr>\n",
              "      <th>0</th>\n",
              "      <td>pareto</td>\n",
              "      <td>2.250696</td>\n",
              "      <td>NaN</td>\n",
              "      <td>-0.847694</td>\n",
              "      <td>0.847694</td>\n",
              "      <td>(1.5232372970000498,)</td>\n",
              "    </tr>\n",
              "  </tbody>\n",
              "</table>\n",
              "</div>\n",
              "      <button class=\"colab-df-convert\" onclick=\"convertToInteractive('df-bf8de433-c07e-4fc7-beb8-fba78ef2e1dd')\"\n",
              "              title=\"Convert this dataframe to an interactive table.\"\n",
              "              style=\"display:none;\">\n",
              "        \n",
              "  <svg xmlns=\"http://www.w3.org/2000/svg\" height=\"24px\"viewBox=\"0 0 24 24\"\n",
              "       width=\"24px\">\n",
              "    <path d=\"M0 0h24v24H0V0z\" fill=\"none\"/>\n",
              "    <path d=\"M18.56 5.44l.94 2.06.94-2.06 2.06-.94-2.06-.94-.94-2.06-.94 2.06-2.06.94zm-11 1L8.5 8.5l.94-2.06 2.06-.94-2.06-.94L8.5 2.5l-.94 2.06-2.06.94zm10 10l.94 2.06.94-2.06 2.06-.94-2.06-.94-.94-2.06-.94 2.06-2.06.94z\"/><path d=\"M17.41 7.96l-1.37-1.37c-.4-.4-.92-.59-1.43-.59-.52 0-1.04.2-1.43.59L10.3 9.45l-7.72 7.72c-.78.78-.78 2.05 0 2.83L4 21.41c.39.39.9.59 1.41.59.51 0 1.02-.2 1.41-.59l7.78-7.78 2.81-2.81c.8-.78.8-2.07 0-2.86zM5.41 20L4 18.59l7.72-7.72 1.47 1.35L5.41 20z\"/>\n",
              "  </svg>\n",
              "      </button>\n",
              "      \n",
              "  <style>\n",
              "    .colab-df-container {\n",
              "      display:flex;\n",
              "      flex-wrap:wrap;\n",
              "      gap: 12px;\n",
              "    }\n",
              "\n",
              "    .colab-df-convert {\n",
              "      background-color: #E8F0FE;\n",
              "      border: none;\n",
              "      border-radius: 50%;\n",
              "      cursor: pointer;\n",
              "      display: none;\n",
              "      fill: #1967D2;\n",
              "      height: 32px;\n",
              "      padding: 0 0 0 0;\n",
              "      width: 32px;\n",
              "    }\n",
              "\n",
              "    .colab-df-convert:hover {\n",
              "      background-color: #E2EBFA;\n",
              "      box-shadow: 0px 1px 2px rgba(60, 64, 67, 0.3), 0px 1px 3px 1px rgba(60, 64, 67, 0.15);\n",
              "      fill: #174EA6;\n",
              "    }\n",
              "\n",
              "    [theme=dark] .colab-df-convert {\n",
              "      background-color: #3B4455;\n",
              "      fill: #D2E3FC;\n",
              "    }\n",
              "\n",
              "    [theme=dark] .colab-df-convert:hover {\n",
              "      background-color: #434B5C;\n",
              "      box-shadow: 0px 1px 3px 1px rgba(0, 0, 0, 0.15);\n",
              "      filter: drop-shadow(0px 1px 2px rgba(0, 0, 0, 0.3));\n",
              "      fill: #FFFFFF;\n",
              "    }\n",
              "  </style>\n",
              "\n",
              "      <script>\n",
              "        const buttonEl =\n",
              "          document.querySelector('#df-bf8de433-c07e-4fc7-beb8-fba78ef2e1dd button.colab-df-convert');\n",
              "        buttonEl.style.display =\n",
              "          google.colab.kernel.accessAllowed ? 'block' : 'none';\n",
              "\n",
              "        async function convertToInteractive(key) {\n",
              "          const element = document.querySelector('#df-bf8de433-c07e-4fc7-beb8-fba78ef2e1dd');\n",
              "          const dataTable =\n",
              "            await google.colab.kernel.invokeFunction('convertToInteractive',\n",
              "                                                     [key], {});\n",
              "          if (!dataTable) return;\n",
              "\n",
              "          const docLinkHtml = 'Like what you see? Visit the ' +\n",
              "            '<a target=\"_blank\" href=https://colab.research.google.com/notebooks/data_table.ipynb>data table notebook</a>'\n",
              "            + ' to learn more about interactive tables.';\n",
              "          element.innerHTML = '';\n",
              "          dataTable['output_type'] = 'display_data';\n",
              "          await google.colab.output.renderOutput(dataTable, element);\n",
              "          const docLink = document.createElement('div');\n",
              "          docLink.innerHTML = docLinkHtml;\n",
              "          element.appendChild(docLink);\n",
              "        }\n",
              "      </script>\n",
              "    </div>\n",
              "  </div>\n",
              "  "
            ],
            "text/plain": [
              "    distr     score  LLE       loc     scale                    arg\n",
              "0  pareto  2.250696  NaN -0.847694  0.847694  (1.5232372970000498,)"
            ]
          },
          "metadata": {},
          "execution_count": 71
        }
      ]
    },
    {
      "cell_type": "code",
      "source": [
        "dist1.generate(n=100)"
      ],
      "metadata": {
        "colab": {
          "base_uri": "https://localhost:8080/"
        },
        "id": "V7OvIYcDxDay",
        "outputId": "06649866-9f9f-4bec-e32e-a0e51096d0c6"
      },
      "execution_count": null,
      "outputs": [
        {
          "output_type": "stream",
          "name": "stdout",
          "text": [
            "[distfit] >Generate 100 pareto distributed samples with fitted params (1.5232372970000498, -0.8476939551579834, 0.847693953377505).\n"
          ]
        },
        {
          "output_type": "execute_result",
          "data": {
            "text/plain": [
              "array([2.07385543e+00, 3.53243373e-01, 1.45315793e+00, 3.92043956e-02,\n",
              "       1.12983592e+00, 2.42723236e+00, 6.03426595e-01, 1.93603644e+00,\n",
              "       1.63082361e+00, 2.28261626e+00, 3.12210726e+00, 3.23599655e-01,\n",
              "       1.65124569e-02, 1.61372367e+00, 7.35229113e+00, 4.36514024e-01,\n",
              "       5.87692227e-02, 1.10056539e+00, 2.36612939e+00, 6.05212208e-01,\n",
              "       4.96217344e-01, 7.42484855e-01, 1.24798324e+00, 4.62576217e-01,\n",
              "       1.23861076e+00, 1.98859385e-01, 3.15818617e-01, 3.89912426e-01,\n",
              "       5.57205863e-01, 1.52902912e+00, 2.46634270e-01, 1.77506040e-01,\n",
              "       3.27704802e-01, 1.40956438e+00, 4.54823448e-01, 6.45149712e+00,\n",
              "       7.88506079e+00, 2.89854875e-01, 1.11209089e+00, 4.61385515e-01,\n",
              "       2.44774464e+00, 2.03902479e-01, 8.30044489e-01, 1.62142200e+00,\n",
              "       1.14854473e+00, 2.53995903e-01, 1.40698498e+00, 9.90157310e-01,\n",
              "       1.20218382e+00, 7.03523740e-01, 1.06446191e-01, 2.44005110e-03,\n",
              "       2.41854608e-01, 2.96104116e-01, 1.69319261e+00, 2.75392175e-01,\n",
              "       2.69020503e-01, 1.55182583e+00, 3.35381088e-01, 2.83824412e+01,\n",
              "       1.56801088e-01, 1.38766670e+00, 7.68272459e+00, 2.29886181e-02,\n",
              "       7.61020132e-02, 7.39383990e-03, 1.83751530e+00, 3.25668058e-01,\n",
              "       1.50658602e-01, 1.92660274e+00, 1.81585600e+00, 1.70849714e+00,\n",
              "       4.43701785e-01, 3.18537255e+00, 8.42945252e-01, 2.21380533e-02,\n",
              "       6.53250592e+00, 1.09929834e+00, 6.38714461e-01, 2.72924218e-01,\n",
              "       1.21162933e-01, 4.38708778e-02, 4.01384705e-01, 1.15710434e+00,\n",
              "       2.20753819e-01, 8.04855776e-01, 8.78688899e-01, 2.57200733e-01,\n",
              "       6.70510701e-01, 1.38835892e+00, 4.95993534e-01, 5.45074323e-01,\n",
              "       5.69609977e+00, 9.54462780e-01, 2.31732502e-01, 1.30589730e+00,\n",
              "       1.85812753e-01, 3.39309554e+00, 3.19701283e-01, 4.60740524e-01])"
            ]
          },
          "metadata": {},
          "execution_count": 72
        }
      ]
    },
    {
      "cell_type": "code",
      "source": [
        "data_wbc = dist1.generate(n=100)\n",
        "df['Палочкоядерные нейтрофилы (Bands)'] = data_wbc.tolist()\n",
        "print(df)"
      ],
      "metadata": {
        "colab": {
          "base_uri": "https://localhost:8080/"
        },
        "id": "N-yvq5RiWk6m",
        "outputId": "e3b23167-f037-4b88-bb58-eca030b340eb"
      },
      "execution_count": null,
      "outputs": [
        {
          "output_type": "stream",
          "name": "stdout",
          "text": [
            "[distfit] >Generate 100 pareto distributed samples with fitted params (1.5232372970000498, -0.8476939551579834, 0.847693953377505).\n",
            "    Лейкоциты (WBC)  ...  Палочкоядерные нейтрофилы (Bands)\n",
            "0          7.117894  ...                           5.174401\n",
            "1          2.684016  ...                           8.099183\n",
            "2          2.175805  ...                           1.825724\n",
            "3         18.869148  ...                           0.485982\n",
            "4         13.314418  ...                           0.024016\n",
            "..              ...  ...                                ...\n",
            "95         2.027713  ...                           0.655709\n",
            "96        13.186083  ...                           1.676083\n",
            "97         6.797947  ...                           7.163255\n",
            "98        15.071305  ...                           0.022746\n",
            "99         5.462288  ...                           0.421043\n",
            "\n",
            "[100 rows x 4 columns]\n"
          ]
        }
      ]
    },
    {
      "cell_type": "markdown",
      "source": [
        "Сегментоядерные нейтрофилы"
      ],
      "metadata": {
        "id": "jPjH7TZQxHXr"
      }
    },
    {
      "cell_type": "code",
      "source": [
        "names = x_sick.columns\n",
        "x_health_1 = x_sick['Сегментоядерные нейтрофилы (Segs)']\n",
        "print(x_health_1)\n",
        "\n",
        "# Initialize model\n",
        "dist1 = distfit(bins=25,alpha=0.02,stats='ks',distr = 'dweibull')\n",
        "print(x_health_1)\n",
        "# Fit\n",
        "dist1.fit_transform(x_health_1,verbose=1)\n",
        "print(type(data1))\n",
        "\n",
        "print(names)"
      ],
      "metadata": {
        "colab": {
          "base_uri": "https://localhost:8080/"
        },
        "id": "tR6vhc8YxL5f",
        "outputId": "89128f9c-dd34-45ac-e36d-0a12695565cb"
      },
      "execution_count": null,
      "outputs": [
        {
          "output_type": "stream",
          "name": "stdout",
          "text": [
            "0      67\n",
            "1      51\n",
            "2      64\n",
            "3      67\n",
            "4      55\n",
            "       ..\n",
            "131    81\n",
            "132    56\n",
            "133    67\n",
            "134    61\n",
            "135    41\n",
            "Name: Сегментоядерные нейтрофилы (Segs), Length: 136, dtype: int64\n",
            "0      67\n",
            "1      51\n",
            "2      64\n",
            "3      67\n",
            "4      55\n",
            "       ..\n",
            "131    81\n",
            "132    56\n",
            "133    67\n",
            "134    61\n",
            "135    41\n",
            "Name: Сегментоядерные нейтрофилы (Segs), Length: 136, dtype: int64\n",
            "<class 'numpy.ndarray'>\n",
            "Index(['Гемоглобин (Hgb)', 'Эритроциты (RBC)', 'Лейкоциты (WBC)',\n",
            "       'Палочкоядерные нейтрофилы (Bands)',\n",
            "       'Сегментоядерные нейтрофилы (Segs)', 'Моноциты (Mono)',\n",
            "       'Тромбоциты (Plt)', 'Средний объем эритроцита (MCV)'],\n",
            "      dtype='object')\n"
          ]
        }
      ]
    },
    {
      "cell_type": "code",
      "source": [
        "dist1.plot(verbose=1)"
      ],
      "metadata": {
        "colab": {
          "base_uri": "https://localhost:8080/",
          "height": 579
        },
        "id": "ZvvJjoS0ynOU",
        "outputId": "c4b7bf11-0fba-41c9-a41e-60de9c49f63d"
      },
      "execution_count": null,
      "outputs": [
        {
          "output_type": "execute_result",
          "data": {
            "text/plain": [
              "(<Figure size 720x576 with 1 Axes>,\n",
              " <matplotlib.axes._subplots.AxesSubplot at 0x7f72a2df7cd0>)"
            ]
          },
          "metadata": {},
          "execution_count": 77
        },
        {
          "output_type": "display_data",
          "data": {
            "image/png": "[encoded data removed]",
            "text/plain": [
              "<Figure size 720x576 with 1 Axes>"
            ]
          },
          "metadata": {
            "needs_background": "light"
          }
        }
      ]
    },
    {
      "cell_type": "code",
      "source": [
        "dist1.summary"
      ],
      "metadata": {
        "colab": {
          "base_uri": "https://localhost:8080/",
          "height": 81
        },
        "id": "VeyhYGuutLW1",
        "outputId": "6a3cab44-5f98-4d24-c015-65dcd4897864"
      },
      "execution_count": null,
      "outputs": [
        {
          "output_type": "execute_result",
          "data": {
            "text/html": [
              "\n",
              "  <div id=\"df-eb428298-2344-465d-a5e4-8c1298ca67b2\">\n",
              "    <div class=\"colab-df-container\">\n",
              "      <div>\n",
              "<style scoped>\n",
              "    .dataframe tbody tr th:only-of-type {\n",
              "        vertical-align: middle;\n",
              "    }\n",
              "\n",
              "    .dataframe tbody tr th {\n",
              "        vertical-align: top;\n",
              "    }\n",
              "\n",
              "    .dataframe thead th {\n",
              "        text-align: right;\n",
              "    }\n",
              "</style>\n",
              "<table border=\"1\" class=\"dataframe\">\n",
              "  <thead>\n",
              "    <tr style=\"text-align: right;\">\n",
              "      <th></th>\n",
              "      <th>distr</th>\n",
              "      <th>score</th>\n",
              "      <th>LLE</th>\n",
              "      <th>loc</th>\n",
              "      <th>scale</th>\n",
              "      <th>arg</th>\n",
              "    </tr>\n",
              "  </thead>\n",
              "  <tbody>\n",
              "    <tr>\n",
              "      <th>0</th>\n",
              "      <td>dweibull</td>\n",
              "      <td>0.545091</td>\n",
              "      <td>NaN</td>\n",
              "      <td>63.530053</td>\n",
              "      <td>9.793064</td>\n",
              "      <td>(1.0925669785814853,)</td>\n",
              "    </tr>\n",
              "  </tbody>\n",
              "</table>\n",
              "</div>\n",
              "      <button class=\"colab-df-convert\" onclick=\"convertToInteractive('df-eb428298-2344-465d-a5e4-8c1298ca67b2')\"\n",
              "              title=\"Convert this dataframe to an interactive table.\"\n",
              "              style=\"display:none;\">\n",
              "        \n",
              "  <svg xmlns=\"http://www.w3.org/2000/svg\" height=\"24px\"viewBox=\"0 0 24 24\"\n",
              "       width=\"24px\">\n",
              "    <path d=\"M0 0h24v24H0V0z\" fill=\"none\"/>\n",
              "    <path d=\"M18.56 5.44l.94 2.06.94-2.06 2.06-.94-2.06-.94-.94-2.06-.94 2.06-2.06.94zm-11 1L8.5 8.5l.94-2.06 2.06-.94-2.06-.94L8.5 2.5l-.94 2.06-2.06.94zm10 10l.94 2.06.94-2.06 2.06-.94-2.06-.94-.94-2.06-.94 2.06-2.06.94z\"/><path d=\"M17.41 7.96l-1.37-1.37c-.4-.4-.92-.59-1.43-.59-.52 0-1.04.2-1.43.59L10.3 9.45l-7.72 7.72c-.78.78-.78 2.05 0 2.83L4 21.41c.39.39.9.59 1.41.59.51 0 1.02-.2 1.41-.59l7.78-7.78 2.81-2.81c.8-.78.8-2.07 0-2.86zM5.41 20L4 18.59l7.72-7.72 1.47 1.35L5.41 20z\"/>\n",
              "  </svg>\n",
              "      </button>\n",
              "      \n",
              "  <style>\n",
              "    .colab-df-container {\n",
              "      display:flex;\n",
              "      flex-wrap:wrap;\n",
              "      gap: 12px;\n",
              "    }\n",
              "\n",
              "    .colab-df-convert {\n",
              "      background-color: #E8F0FE;\n",
              "      border: none;\n",
              "      border-radius: 50%;\n",
              "      cursor: pointer;\n",
              "      display: none;\n",
              "      fill: #1967D2;\n",
              "      height: 32px;\n",
              "      padding: 0 0 0 0;\n",
              "      width: 32px;\n",
              "    }\n",
              "\n",
              "    .colab-df-convert:hover {\n",
              "      background-color: #E2EBFA;\n",
              "      box-shadow: 0px 1px 2px rgba(60, 64, 67, 0.3), 0px 1px 3px 1px rgba(60, 64, 67, 0.15);\n",
              "      fill: #174EA6;\n",
              "    }\n",
              "\n",
              "    [theme=dark] .colab-df-convert {\n",
              "      background-color: #3B4455;\n",
              "      fill: #D2E3FC;\n",
              "    }\n",
              "\n",
              "    [theme=dark] .colab-df-convert:hover {\n",
              "      background-color: #434B5C;\n",
              "      box-shadow: 0px 1px 3px 1px rgba(0, 0, 0, 0.15);\n",
              "      filter: drop-shadow(0px 1px 2px rgba(0, 0, 0, 0.3));\n",
              "      fill: #FFFFFF;\n",
              "    }\n",
              "  </style>\n",
              "\n",
              "      <script>\n",
              "        const buttonEl =\n",
              "          document.querySelector('#df-eb428298-2344-465d-a5e4-8c1298ca67b2 button.colab-df-convert');\n",
              "        buttonEl.style.display =\n",
              "          google.colab.kernel.accessAllowed ? 'block' : 'none';\n",
              "\n",
              "        async function convertToInteractive(key) {\n",
              "          const element = document.querySelector('#df-eb428298-2344-465d-a5e4-8c1298ca67b2');\n",
              "          const dataTable =\n",
              "            await google.colab.kernel.invokeFunction('convertToInteractive',\n",
              "                                                     [key], {});\n",
              "          if (!dataTable) return;\n",
              "\n",
              "          const docLinkHtml = 'Like what you see? Visit the ' +\n",
              "            '<a target=\"_blank\" href=https://colab.research.google.com/notebooks/data_table.ipynb>data table notebook</a>'\n",
              "            + ' to learn more about interactive tables.';\n",
              "          element.innerHTML = '';\n",
              "          dataTable['output_type'] = 'display_data';\n",
              "          await google.colab.output.renderOutput(dataTable, element);\n",
              "          const docLink = document.createElement('div');\n",
              "          docLink.innerHTML = docLinkHtml;\n",
              "          element.appendChild(docLink);\n",
              "        }\n",
              "      </script>\n",
              "    </div>\n",
              "  </div>\n",
              "  "
            ],
            "text/plain": [
              "      distr     score  LLE        loc     scale                    arg\n",
              "0  dweibull  0.545091  NaN  63.530053  9.793064  (1.0925669785814853,)"
            ]
          },
          "metadata": {},
          "execution_count": 78
        }
      ]
    },
    {
      "cell_type": "code",
      "source": [
        "dist1.generate(n=100)"
      ],
      "metadata": {
        "colab": {
          "base_uri": "https://localhost:8080/"
        },
        "id": "vbRjpyl90BwH",
        "outputId": "425afb41-9f34-4d11-8fb3-d767da7e73fb"
      },
      "execution_count": null,
      "outputs": [
        {
          "output_type": "stream",
          "name": "stdout",
          "text": [
            "[distfit] >Generate 100 dweibull distributed samples with fitted params (1.0925669785814853, 63.530053033192615, 9.793063774880903).\n"
          ]
        },
        {
          "output_type": "execute_result",
          "data": {
            "text/plain": [
              "array([ 67.50634087,  62.79635233,  59.5351734 ,  64.80678627,\n",
              "        36.53300532,  63.04856708,  72.64656467,  63.68673038,\n",
              "        55.2845466 ,  60.00810979,  49.82834315,  -3.54623626,\n",
              "        52.45525781,  54.80784402,  64.17204616,  63.65663842,\n",
              "        73.02643904,  64.502356  ,  44.57710694,  84.77519831,\n",
              "        67.71710462,  39.15718804,  65.22625524,  55.93386202,\n",
              "        68.69866016,  68.42437624, 119.12777704,  56.72746911,\n",
              "        68.04047736,  70.45768339,  48.71429797,  41.27225967,\n",
              "        55.88575943,  84.96892889,  64.71416367,  50.65564746,\n",
              "        50.55271165,  62.92873084,  46.95020409,  60.11550776,\n",
              "        66.30560114,  64.19772573,  44.14718399,  56.19569859,\n",
              "        92.54144462,  60.57336767,  47.97598825,  52.49940763,\n",
              "        53.23400154,  78.18524457,  87.04943311,  64.84904348,\n",
              "        75.93810412,  79.84770836,  67.35899   ,  64.47439568,\n",
              "        96.13089439,  71.28203932,  54.71763503,  69.21206445,\n",
              "        56.61619805,  47.78005114,  54.56300753,  35.00969942,\n",
              "        54.37255832,  72.03007969,  65.43168112,  49.01452261,\n",
              "        74.1738217 ,  44.56269657,  36.59918414,  88.42984775,\n",
              "        75.56430402,  56.66357884,  63.92176142,  61.48572168,\n",
              "        53.53255405,  70.98337285,  63.30324981,  67.89853139,\n",
              "        65.87231944,  69.25807218,  62.25252784,  58.81890398,\n",
              "        69.24074607,  62.00064022,  59.90276359,  63.93685664,\n",
              "        70.1889514 ,  81.64224373,  86.76579969,  19.63616141,\n",
              "        77.19249303,  88.92503458,  62.88230831,  57.34172218,\n",
              "        68.2164017 ,  64.83219132,  65.94250306,  51.65705648])"
            ]
          },
          "metadata": {},
          "execution_count": 79
        }
      ]
    },
    {
      "cell_type": "code",
      "source": [
        "data_wbc = dist1.generate(n=100)\n",
        "df['Сегментоядерные нейтрофилы (Segs)'] = data_wbc.tolist()\n",
        "print(df)"
      ],
      "metadata": {
        "colab": {
          "base_uri": "https://localhost:8080/"
        },
        "id": "ppWkaVw-Wuqd",
        "outputId": "9f14093c-67d2-4948-e825-6539be43d8b3"
      },
      "execution_count": null,
      "outputs": [
        {
          "output_type": "stream",
          "name": "stdout",
          "text": [
            "[distfit] >Generate 100 dweibull distributed samples with fitted params (1.0925669785814853, 63.530053033192615, 9.793063774880903).\n",
            "    Лейкоциты (WBC)  ...  Сегментоядерные нейтрофилы (Segs)\n",
            "0          7.117894  ...                          74.730417\n",
            "1          2.684016  ...                          67.832890\n",
            "2          2.175805  ...                          51.506338\n",
            "3         18.869148  ...                          64.783531\n",
            "4         13.314418  ...                          50.043922\n",
            "..              ...  ...                                ...\n",
            "95         2.027713  ...                          67.587426\n",
            "96        13.186083  ...                          78.663697\n",
            "97         6.797947  ...                          61.005037\n",
            "98        15.071305  ...                          65.020009\n",
            "99         5.462288  ...                          57.333818\n",
            "\n",
            "[100 rows x 5 columns]\n"
          ]
        }
      ]
    },
    {
      "cell_type": "markdown",
      "source": [
        "Моноциты"
      ],
      "metadata": {
        "id": "ffv9Yjit0DRz"
      }
    },
    {
      "cell_type": "code",
      "source": [
        "names = x_sick.columns\n",
        "x_health_1 = x_sick['Моноциты (Mono)']\n",
        "print(x_health_1)\n",
        "\n",
        "# Initialize model\n",
        "dist1 = distfit(bins=25,alpha=0.02,stats='ks', distr = 'dweibull')\n",
        "print(x_health_1)\n",
        "# Fit\n",
        "dist1.fit_transform(x_health_1,verbose=1)\n",
        "print(type(data1))\n",
        "\n",
        "print(names)"
      ],
      "metadata": {
        "colab": {
          "base_uri": "https://localhost:8080/"
        },
        "id": "E2d7opW-0RJV",
        "outputId": "54470dda-2571-42ab-f142-61e1c497c3f8"
      },
      "execution_count": null,
      "outputs": [
        {
          "output_type": "stream",
          "name": "stdout",
          "text": [
            "0      11\n",
            "1      17\n",
            "2      10\n",
            "3      13\n",
            "4      12\n",
            "       ..\n",
            "131     4\n",
            "132    10\n",
            "133     6\n",
            "134     7\n",
            "135     5\n",
            "Name: Моноциты (Mono), Length: 136, dtype: int64\n",
            "0      11\n",
            "1      17\n",
            "2      10\n",
            "3      13\n",
            "4      12\n",
            "       ..\n",
            "131     4\n",
            "132    10\n",
            "133     6\n",
            "134     7\n",
            "135     5\n",
            "Name: Моноциты (Mono), Length: 136, dtype: int64\n",
            "<class 'numpy.ndarray'>\n",
            "Index(['Гемоглобин (Hgb)', 'Эритроциты (RBC)', 'Лейкоциты (WBC)',\n",
            "       'Палочкоядерные нейтрофилы (Bands)',\n",
            "       'Сегментоядерные нейтрофилы (Segs)', 'Моноциты (Mono)',\n",
            "       'Тромбоциты (Plt)', 'Средний объем эритроцита (MCV)'],\n",
            "      dtype='object')\n"
          ]
        }
      ]
    },
    {
      "cell_type": "code",
      "source": [
        "dist1.plot(verbose=1)"
      ],
      "metadata": {
        "colab": {
          "base_uri": "https://localhost:8080/",
          "height": 579
        },
        "id": "Y7oY21w-349_",
        "outputId": "83bd8e80-fd93-48c2-8ee2-1856c8f21a19"
      },
      "execution_count": null,
      "outputs": [
        {
          "output_type": "execute_result",
          "data": {
            "text/plain": [
              "(<Figure size 720x576 with 1 Axes>,\n",
              " <matplotlib.axes._subplots.AxesSubplot at 0x7f72a394fe10>)"
            ]
          },
          "metadata": {},
          "execution_count": 102
        },
        {
          "output_type": "display_data",
          "data": {
            "image/png": "[encoded data removed]",
            "text/plain": [
              "<Figure size 720x576 with 1 Axes>"
            ]
          },
          "metadata": {
            "needs_background": "light"
          }
        }
      ]
    },
    {
      "cell_type": "code",
      "source": [
        "dist1.summary"
      ],
      "metadata": {
        "colab": {
          "base_uri": "https://localhost:8080/",
          "height": 81
        },
        "id": "maJkwB5Kz_fj",
        "outputId": "15818c4e-d0ec-47cd-cf84-d0d5fd0c5dfe"
      },
      "execution_count": null,
      "outputs": [
        {
          "output_type": "execute_result",
          "data": {
            "text/html": [
              "\n",
              "  <div id=\"df-b899fb9b-07a7-442a-a979-98cce0ca026b\">\n",
              "    <div class=\"colab-df-container\">\n",
              "      <div>\n",
              "<style scoped>\n",
              "    .dataframe tbody tr th:only-of-type {\n",
              "        vertical-align: middle;\n",
              "    }\n",
              "\n",
              "    .dataframe tbody tr th {\n",
              "        vertical-align: top;\n",
              "    }\n",
              "\n",
              "    .dataframe thead th {\n",
              "        text-align: right;\n",
              "    }\n",
              "</style>\n",
              "<table border=\"1\" class=\"dataframe\">\n",
              "  <thead>\n",
              "    <tr style=\"text-align: right;\">\n",
              "      <th></th>\n",
              "      <th>distr</th>\n",
              "      <th>score</th>\n",
              "      <th>LLE</th>\n",
              "      <th>loc</th>\n",
              "      <th>scale</th>\n",
              "      <th>arg</th>\n",
              "    </tr>\n",
              "  </thead>\n",
              "  <tbody>\n",
              "    <tr>\n",
              "      <th>0</th>\n",
              "      <td>dweibull</td>\n",
              "      <td>0.807543</td>\n",
              "      <td>NaN</td>\n",
              "      <td>10.193972</td>\n",
              "      <td>4.44224</td>\n",
              "      <td>(1.0421341070221777,)</td>\n",
              "    </tr>\n",
              "  </tbody>\n",
              "</table>\n",
              "</div>\n",
              "      <button class=\"colab-df-convert\" onclick=\"convertToInteractive('df-b899fb9b-07a7-442a-a979-98cce0ca026b')\"\n",
              "              title=\"Convert this dataframe to an interactive table.\"\n",
              "              style=\"display:none;\">\n",
              "        \n",
              "  <svg xmlns=\"http://www.w3.org/2000/svg\" height=\"24px\"viewBox=\"0 0 24 24\"\n",
              "       width=\"24px\">\n",
              "    <path d=\"M0 0h24v24H0V0z\" fill=\"none\"/>\n",
              "    <path d=\"M18.56 5.44l.94 2.06.94-2.06 2.06-.94-2.06-.94-.94-2.06-.94 2.06-2.06.94zm-11 1L8.5 8.5l.94-2.06 2.06-.94-2.06-.94L8.5 2.5l-.94 2.06-2.06.94zm10 10l.94 2.06.94-2.06 2.06-.94-2.06-.94-.94-2.06-.94 2.06-2.06.94z\"/><path d=\"M17.41 7.96l-1.37-1.37c-.4-.4-.92-.59-1.43-.59-.52 0-1.04.2-1.43.59L10.3 9.45l-7.72 7.72c-.78.78-.78 2.05 0 2.83L4 21.41c.39.39.9.59 1.41.59.51 0 1.02-.2 1.41-.59l7.78-7.78 2.81-2.81c.8-.78.8-2.07 0-2.86zM5.41 20L4 18.59l7.72-7.72 1.47 1.35L5.41 20z\"/>\n",
              "  </svg>\n",
              "      </button>\n",
              "      \n",
              "  <style>\n",
              "    .colab-df-container {\n",
              "      display:flex;\n",
              "      flex-wrap:wrap;\n",
              "      gap: 12px;\n",
              "    }\n",
              "\n",
              "    .colab-df-convert {\n",
              "      background-color: #E8F0FE;\n",
              "      border: none;\n",
              "      border-radius: 50%;\n",
              "      cursor: pointer;\n",
              "      display: none;\n",
              "      fill: #1967D2;\n",
              "      height: 32px;\n",
              "      padding: 0 0 0 0;\n",
              "      width: 32px;\n",
              "    }\n",
              "\n",
              "    .colab-df-convert:hover {\n",
              "      background-color: #E2EBFA;\n",
              "      box-shadow: 0px 1px 2px rgba(60, 64, 67, 0.3), 0px 1px 3px 1px rgba(60, 64, 67, 0.15);\n",
              "      fill: #174EA6;\n",
              "    }\n",
              "\n",
              "    [theme=dark] .colab-df-convert {\n",
              "      background-color: #3B4455;\n",
              "      fill: #D2E3FC;\n",
              "    }\n",
              "\n",
              "    [theme=dark] .colab-df-convert:hover {\n",
              "      background-color: #434B5C;\n",
              "      box-shadow: 0px 1px 3px 1px rgba(0, 0, 0, 0.15);\n",
              "      filter: drop-shadow(0px 1px 2px rgba(0, 0, 0, 0.3));\n",
              "      fill: #FFFFFF;\n",
              "    }\n",
              "  </style>\n",
              "\n",
              "      <script>\n",
              "        const buttonEl =\n",
              "          document.querySelector('#df-b899fb9b-07a7-442a-a979-98cce0ca026b button.colab-df-convert');\n",
              "        buttonEl.style.display =\n",
              "          google.colab.kernel.accessAllowed ? 'block' : 'none';\n",
              "\n",
              "        async function convertToInteractive(key) {\n",
              "          const element = document.querySelector('#df-b899fb9b-07a7-442a-a979-98cce0ca026b');\n",
              "          const dataTable =\n",
              "            await google.colab.kernel.invokeFunction('convertToInteractive',\n",
              "                                                     [key], {});\n",
              "          if (!dataTable) return;\n",
              "\n",
              "          const docLinkHtml = 'Like what you see? Visit the ' +\n",
              "            '<a target=\"_blank\" href=https://colab.research.google.com/notebooks/data_table.ipynb>data table notebook</a>'\n",
              "            + ' to learn more about interactive tables.';\n",
              "          element.innerHTML = '';\n",
              "          dataTable['output_type'] = 'display_data';\n",
              "          await google.colab.output.renderOutput(dataTable, element);\n",
              "          const docLink = document.createElement('div');\n",
              "          docLink.innerHTML = docLinkHtml;\n",
              "          element.appendChild(docLink);\n",
              "        }\n",
              "      </script>\n",
              "    </div>\n",
              "  </div>\n",
              "  "
            ],
            "text/plain": [
              "      distr     score  LLE        loc    scale                    arg\n",
              "0  dweibull  0.807543  NaN  10.193972  4.44224  (1.0421341070221777,)"
            ]
          },
          "metadata": {},
          "execution_count": 103
        }
      ]
    },
    {
      "cell_type": "code",
      "source": [
        "dist1.generate(n=100)"
      ],
      "metadata": {
        "colab": {
          "base_uri": "https://localhost:8080/"
        },
        "id": "DyOc0R4j5CSf",
        "outputId": "fe78f280-deb9-4775-8487-c7444110ba94"
      },
      "execution_count": null,
      "outputs": [
        {
          "output_type": "stream",
          "name": "stdout",
          "text": [
            "[distfit] >Generate 100 dweibull distributed samples with fitted params (1.0421341070221777, 10.193972257368841, 4.442239804408381).\n"
          ]
        },
        {
          "output_type": "execute_result",
          "data": {
            "text/plain": [
              "array([15.3741969 ,  7.93672053,  2.53530153, 11.7962573 , 11.81992692,\n",
              "       10.29941158, -1.92443982,  9.28967121, 15.93111858, 17.16265931,\n",
              "        6.38014796, 14.89142904, 10.52931041, 15.42722518, 10.57096495,\n",
              "        6.12399359, 11.07075698,  8.65136969,  0.4968953 , 12.35244004,\n",
              "       15.94743984,  2.80939123, 20.82452243,  8.55398595, 16.11480856,\n",
              "       11.76755116,  3.87607401,  6.72942317,  4.20646251, 13.98622099,\n",
              "        2.82226624, 10.16275977,  9.03056774, 18.30862361, 12.93177222,\n",
              "       12.54655153, 10.91550655,  9.29208401,  8.5666093 , 16.49654998,\n",
              "        8.78276492, 11.12821027,  2.22032145, 14.32683009, 17.50198013,\n",
              "       12.62343343, 15.7553235 , 11.84455571,  7.32100707,  4.77562484,\n",
              "       10.89839975,  2.06547325, 11.52456958, 24.06761614, 15.16087642,\n",
              "       11.48665646,  8.33356234, 14.81370692,  6.4830491 ,  9.41857804,\n",
              "       11.95516649, 13.54541002, 16.62396074, 11.55898135, 15.00013214,\n",
              "        5.19781473,  8.83106599,  4.77541973, -0.74802849,  5.60021096,\n",
              "       11.72813855,  9.07917239, 16.99192371, 15.09226211,  7.18365107,\n",
              "        7.24880576,  8.18656775, 17.95145248, 12.4207968 , 17.18724393,\n",
              "       24.97515253, 12.03606657, 24.16773888, 13.00090117, 12.76567937,\n",
              "       10.63543795, 17.46455851,  7.54929885,  1.5036464 , -8.082238  ,\n",
              "        8.5118356 ,  9.34146965, 12.71878596, 20.40709078, 10.01263461,\n",
              "        8.32924934,  9.58498661, 16.46374655,  9.78356408,  9.59932041])"
            ]
          },
          "metadata": {},
          "execution_count": 104
        }
      ]
    },
    {
      "cell_type": "code",
      "source": [
        "data_wbc = dist1.generate(n=100)\n",
        "df['Моноциты (Mono)'] = data_wbc.tolist()\n",
        "print(df)"
      ],
      "metadata": {
        "colab": {
          "base_uri": "https://localhost:8080/"
        },
        "id": "I1HiqxyaW9GK",
        "outputId": "7381697d-360f-4d10-fe74-4fda89d4d05a"
      },
      "execution_count": null,
      "outputs": [
        {
          "output_type": "stream",
          "name": "stdout",
          "text": [
            "[distfit] >Generate 100 dweibull distributed samples with fitted params (1.0421341070221777, 10.193972257368841, 4.442239804408381).\n",
            "    Лейкоциты (WBC)  ...  Моноциты (Mono)\n",
            "0          7.117894  ...         0.377365\n",
            "1          2.684016  ...        15.293328\n",
            "2          2.175805  ...        11.662576\n",
            "3         18.869148  ...         9.391970\n",
            "4         13.314418  ...         6.629167\n",
            "..              ...  ...              ...\n",
            "95         2.027713  ...        23.958235\n",
            "96        13.186083  ...        20.783984\n",
            "97         6.797947  ...         6.681458\n",
            "98        15.071305  ...        10.672383\n",
            "99         5.462288  ...         5.878174\n",
            "\n",
            "[100 rows x 6 columns]\n"
          ]
        }
      ]
    },
    {
      "cell_type": "markdown",
      "source": [
        "Тромбоциты\n"
      ],
      "metadata": {
        "id": "BvUEl7i66EHp"
      }
    },
    {
      "cell_type": "code",
      "source": [
        "names = x_sick.columns\n",
        "x_health_1 = x_sick['Тромбоциты (Plt)']\n",
        "print(x_health_1)\n",
        "\n",
        "# Initialize model\n",
        "dist1 = distfit(bins=25,alpha=0.02,stats='ks', distr = 'lognorm')\n",
        "print(x_health_1)\n",
        "# Fit\n",
        "dist1.fit_transform(x_health_1,verbose=1)\n",
        "print(type(data1))\n",
        "\n",
        "print(names)"
      ],
      "metadata": {
        "colab": {
          "base_uri": "https://localhost:8080/"
        },
        "id": "9ME9hHsd6KKu",
        "outputId": "dd4de455-2a6d-4edf-d182-a4ebb95ca393"
      },
      "execution_count": null,
      "outputs": [
        {
          "output_type": "stream",
          "name": "stdout",
          "text": [
            "0        2\n",
            "1       18\n",
            "2        2\n",
            "3        2\n",
            "4       11\n",
            "      ... \n",
            "131     44\n",
            "132     13\n",
            "133    288\n",
            "134     14\n",
            "135     13\n",
            "Name: Тромбоциты (Plt), Length: 136, dtype: int64\n",
            "0        2\n",
            "1       18\n",
            "2        2\n",
            "3        2\n",
            "4       11\n",
            "      ... \n",
            "131     44\n",
            "132     13\n",
            "133    288\n",
            "134     14\n",
            "135     13\n",
            "Name: Тромбоциты (Plt), Length: 136, dtype: int64\n",
            "<class 'numpy.ndarray'>\n",
            "Index(['Гемоглобин (Hgb)', 'Эритроциты (RBC)', 'Лейкоциты (WBC)',\n",
            "       'Палочкоядерные нейтрофилы (Bands)',\n",
            "       'Сегментоядерные нейтрофилы (Segs)', 'Моноциты (Mono)',\n",
            "       'Тромбоциты (Plt)', 'Средний объем эритроцита (MCV)'],\n",
            "      dtype='object')\n"
          ]
        }
      ]
    },
    {
      "cell_type": "code",
      "source": [
        "dist1.plot(verbose=1)"
      ],
      "metadata": {
        "colab": {
          "base_uri": "https://localhost:8080/",
          "height": 579
        },
        "id": "fpGzdbDB6WTL",
        "outputId": "9e574807-425c-4f1a-95b9-0ddb3a5db6d2"
      },
      "execution_count": null,
      "outputs": [
        {
          "output_type": "execute_result",
          "data": {
            "text/plain": [
              "(<Figure size 720x576 with 1 Axes>,\n",
              " <matplotlib.axes._subplots.AxesSubplot at 0x7f72a6607ad0>)"
            ]
          },
          "metadata": {},
          "execution_count": 116
        },
        {
          "output_type": "display_data",
          "data": {
            "image/png": "[encoded data removed]",
            "text/plain": [
              "<Figure size 720x576 with 1 Axes>"
            ]
          },
          "metadata": {
            "needs_background": "light"
          }
        }
      ]
    },
    {
      "cell_type": "code",
      "source": [
        "dist1.summary"
      ],
      "metadata": {
        "colab": {
          "base_uri": "https://localhost:8080/",
          "height": 81
        },
        "id": "WH8P9TiL6c6f",
        "outputId": "06554e69-6246-4139-d0cc-4db1a5775d5a"
      },
      "execution_count": null,
      "outputs": [
        {
          "output_type": "execute_result",
          "data": {
            "text/html": [
              "\n",
              "  <div id=\"df-078d7b48-6de0-4b52-86ff-bba3b1568b21\">\n",
              "    <div class=\"colab-df-container\">\n",
              "      <div>\n",
              "<style scoped>\n",
              "    .dataframe tbody tr th:only-of-type {\n",
              "        vertical-align: middle;\n",
              "    }\n",
              "\n",
              "    .dataframe tbody tr th {\n",
              "        vertical-align: top;\n",
              "    }\n",
              "\n",
              "    .dataframe thead th {\n",
              "        text-align: right;\n",
              "    }\n",
              "</style>\n",
              "<table border=\"1\" class=\"dataframe\">\n",
              "  <thead>\n",
              "    <tr style=\"text-align: right;\">\n",
              "      <th></th>\n",
              "      <th>distr</th>\n",
              "      <th>score</th>\n",
              "      <th>LLE</th>\n",
              "      <th>loc</th>\n",
              "      <th>scale</th>\n",
              "      <th>arg</th>\n",
              "    </tr>\n",
              "  </thead>\n",
              "  <tbody>\n",
              "    <tr>\n",
              "      <th>0</th>\n",
              "      <td>lognorm</td>\n",
              "      <td>2.250696</td>\n",
              "      <td>NaN</td>\n",
              "      <td>-0.473879</td>\n",
              "      <td>11.736053</td>\n",
              "      <td>(1.2870378617706826,)</td>\n",
              "    </tr>\n",
              "  </tbody>\n",
              "</table>\n",
              "</div>\n",
              "      <button class=\"colab-df-convert\" onclick=\"convertToInteractive('df-078d7b48-6de0-4b52-86ff-bba3b1568b21')\"\n",
              "              title=\"Convert this dataframe to an interactive table.\"\n",
              "              style=\"display:none;\">\n",
              "        \n",
              "  <svg xmlns=\"http://www.w3.org/2000/svg\" height=\"24px\"viewBox=\"0 0 24 24\"\n",
              "       width=\"24px\">\n",
              "    <path d=\"M0 0h24v24H0V0z\" fill=\"none\"/>\n",
              "    <path d=\"M18.56 5.44l.94 2.06.94-2.06 2.06-.94-2.06-.94-.94-2.06-.94 2.06-2.06.94zm-11 1L8.5 8.5l.94-2.06 2.06-.94-2.06-.94L8.5 2.5l-.94 2.06-2.06.94zm10 10l.94 2.06.94-2.06 2.06-.94-2.06-.94-.94-2.06-.94 2.06-2.06.94z\"/><path d=\"M17.41 7.96l-1.37-1.37c-.4-.4-.92-.59-1.43-.59-.52 0-1.04.2-1.43.59L10.3 9.45l-7.72 7.72c-.78.78-.78 2.05 0 2.83L4 21.41c.39.39.9.59 1.41.59.51 0 1.02-.2 1.41-.59l7.78-7.78 2.81-2.81c.8-.78.8-2.07 0-2.86zM5.41 20L4 18.59l7.72-7.72 1.47 1.35L5.41 20z\"/>\n",
              "  </svg>\n",
              "      </button>\n",
              "      \n",
              "  <style>\n",
              "    .colab-df-container {\n",
              "      display:flex;\n",
              "      flex-wrap:wrap;\n",
              "      gap: 12px;\n",
              "    }\n",
              "\n",
              "    .colab-df-convert {\n",
              "      background-color: #E8F0FE;\n",
              "      border: none;\n",
              "      border-radius: 50%;\n",
              "      cursor: pointer;\n",
              "      display: none;\n",
              "      fill: #1967D2;\n",
              "      height: 32px;\n",
              "      padding: 0 0 0 0;\n",
              "      width: 32px;\n",
              "    }\n",
              "\n",
              "    .colab-df-convert:hover {\n",
              "      background-color: #E2EBFA;\n",
              "      box-shadow: 0px 1px 2px rgba(60, 64, 67, 0.3), 0px 1px 3px 1px rgba(60, 64, 67, 0.15);\n",
              "      fill: #174EA6;\n",
              "    }\n",
              "\n",
              "    [theme=dark] .colab-df-convert {\n",
              "      background-color: #3B4455;\n",
              "      fill: #D2E3FC;\n",
              "    }\n",
              "\n",
              "    [theme=dark] .colab-df-convert:hover {\n",
              "      background-color: #434B5C;\n",
              "      box-shadow: 0px 1px 3px 1px rgba(0, 0, 0, 0.15);\n",
              "      filter: drop-shadow(0px 1px 2px rgba(0, 0, 0, 0.3));\n",
              "      fill: #FFFFFF;\n",
              "    }\n",
              "  </style>\n",
              "\n",
              "      <script>\n",
              "        const buttonEl =\n",
              "          document.querySelector('#df-078d7b48-6de0-4b52-86ff-bba3b1568b21 button.colab-df-convert');\n",
              "        buttonEl.style.display =\n",
              "          google.colab.kernel.accessAllowed ? 'block' : 'none';\n",
              "\n",
              "        async function convertToInteractive(key) {\n",
              "          const element = document.querySelector('#df-078d7b48-6de0-4b52-86ff-bba3b1568b21');\n",
              "          const dataTable =\n",
              "            await google.colab.kernel.invokeFunction('convertToInteractive',\n",
              "                                                     [key], {});\n",
              "          if (!dataTable) return;\n",
              "\n",
              "          const docLinkHtml = 'Like what you see? Visit the ' +\n",
              "            '<a target=\"_blank\" href=https://colab.research.google.com/notebooks/data_table.ipynb>data table notebook</a>'\n",
              "            + ' to learn more about interactive tables.';\n",
              "          element.innerHTML = '';\n",
              "          dataTable['output_type'] = 'display_data';\n",
              "          await google.colab.output.renderOutput(dataTable, element);\n",
              "          const docLink = document.createElement('div');\n",
              "          docLink.innerHTML = docLinkHtml;\n",
              "          element.appendChild(docLink);\n",
              "        }\n",
              "      </script>\n",
              "    </div>\n",
              "  </div>\n",
              "  "
            ],
            "text/plain": [
              "     distr     score  LLE       loc      scale                    arg\n",
              "0  lognorm  2.250696  NaN -0.473879  11.736053  (1.2870378617706826,)"
            ]
          },
          "metadata": {},
          "execution_count": 117
        }
      ]
    },
    {
      "cell_type": "code",
      "source": [
        "dist1.generate(n=100)"
      ],
      "metadata": {
        "colab": {
          "base_uri": "https://localhost:8080/"
        },
        "id": "Vl_EP_dd7cUX",
        "outputId": "46751057-0fc0-4dd6-88d6-dc85613c991c"
      },
      "execution_count": null,
      "outputs": [
        {
          "output_type": "stream",
          "name": "stdout",
          "text": [
            "[distfit] >Generate 100 lognorm distributed samples with fitted params (1.2870378617706826, -0.4738788142626049, 11.736053262421407).\n"
          ]
        },
        {
          "output_type": "execute_result",
          "data": {
            "text/plain": [
              "array([ 58.60226744,   1.42857231,   9.62819859,  14.27899689,\n",
              "        43.12002255,   1.56003099,   3.67742962,  17.23528072,\n",
              "        13.82073152,   1.95042535,  15.02440174, 124.79904937,\n",
              "         4.29735307,  14.10532971,  30.82700096,  20.0022676 ,\n",
              "        19.9665757 ,   8.88148919,   0.38334783,   1.37016373,\n",
              "        29.74571524,   6.43151035,   4.08283626,   9.0718081 ,\n",
              "        66.73885035,  50.79449496,  27.87767351,   4.47404115,\n",
              "         5.63997175,  14.74320595,   0.64722619,  89.34255401,\n",
              "        28.51501099,  17.74957107,  11.77848574,  11.59810944,\n",
              "        30.82535287,   4.38623658,   5.61298145,   4.49885457,\n",
              "        29.81641765,   0.31242296,  60.82377872,  27.58020208,\n",
              "        34.54643858,  15.02130968,  31.35678754,  16.29044688,\n",
              "        22.23613522,  46.66358688,  10.60334553,   2.89222706,\n",
              "        15.18817793,  12.36540135,   5.74921234,   9.59197053,\n",
              "        15.0061184 ,   3.02614313,  10.81035179,   1.92107222,\n",
              "       181.60645955,   9.83439726,  21.5610264 ,   0.92905077,\n",
              "        15.32055197,   4.68885101,  48.20016365,  66.08824998,\n",
              "         3.22044593,   2.68166947,  17.8777841 ,  18.98632403,\n",
              "        21.07402776,  33.79973144,  10.10960277,   3.47302036,\n",
              "       133.73498419,   4.36880412,  13.32317566,  29.19715625,\n",
              "        18.81119322,  15.67687191,   9.78617691,   8.94386922,\n",
              "       105.75564131,  40.44593783,  18.03017411,  11.46103723,\n",
              "         3.50110658,   8.61059955,   3.71856271,   6.78517535,\n",
              "        29.90270687,  17.7055712 ,   8.42355292,  13.72718391,\n",
              "        18.12631373,  25.4428256 ,   7.77216122,   3.5867491 ])"
            ]
          },
          "metadata": {},
          "execution_count": 123
        }
      ]
    },
    {
      "cell_type": "code",
      "source": [
        "data_wbc = dist1.generate(n=100)\n",
        "df['Тромбоциты'] = data_wbc.tolist()\n",
        "print(df)"
      ],
      "metadata": {
        "colab": {
          "base_uri": "https://localhost:8080/"
        },
        "id": "8A-ECOWTYzWB",
        "outputId": "9bc67291-e782-4670-9bca-16c92259e81a"
      },
      "execution_count": null,
      "outputs": [
        {
          "output_type": "stream",
          "name": "stdout",
          "text": [
            "[distfit] >Generate 100 lognorm distributed samples with fitted params (1.2870378617706826, -0.4738788142626049, 11.736053262421407).\n",
            "    Лейкоциты (WBC)  Гемоглобин (Hgb)  ...  Моноциты (Mono)  Тромбоциты\n",
            "0          7.117894        120.995047  ...         0.377365   45.409912\n",
            "1          2.684016        120.027407  ...        15.293328   25.552028\n",
            "2          2.175805        129.012750  ...        11.662576   38.690495\n",
            "3         18.869148        103.128156  ...         9.391970   19.876451\n",
            "4         13.314418        152.398369  ...         6.629167    4.501889\n",
            "..              ...               ...  ...              ...         ...\n",
            "95         2.027713        126.238902  ...        23.958235    0.116004\n",
            "96        13.186083        112.478652  ...        20.783984    0.212675\n",
            "97         6.797947        129.240835  ...         6.681458   11.295384\n",
            "98        15.071305        107.008969  ...        10.672383   14.670474\n",
            "99         5.462288        144.319728  ...         5.878174    0.506330\n",
            "\n",
            "[100 rows x 7 columns]\n"
          ]
        }
      ]
    },
    {
      "cell_type": "markdown",
      "source": [
        "Средний объем эритроцита"
      ],
      "metadata": {
        "id": "6LM9n_mD7o9f"
      }
    },
    {
      "cell_type": "code",
      "source": [
        "names = x_sick.columns\n",
        "x_health_1 = x_sick['Средний объем эритроцита (MCV)']\n",
        "print(x_health_1)\n",
        "\n",
        "# Initialize model\n",
        "dist1 = distfit(bins=25,alpha=0.02,stats='ks', distr = 'dweibull')\n",
        "print(x_health_1)\n",
        "# Fit\n",
        "dist1.fit_transform(x_health_1,verbose=1)\n",
        "print(type(data1))\n",
        "\n",
        "print(names)"
      ],
      "metadata": {
        "colab": {
          "base_uri": "https://localhost:8080/"
        },
        "id": "R-hFb1eK7oWn",
        "outputId": "f7fc6966-34fe-4b6a-c8de-69cbde280827"
      },
      "execution_count": null,
      "outputs": [
        {
          "output_type": "stream",
          "name": "stdout",
          "text": [
            "0      74.9\n",
            "1      69.5\n",
            "2      61.3\n",
            "3      67.6\n",
            "4      72.9\n",
            "       ... \n",
            "131    74.0\n",
            "132    64.5\n",
            "133    65.0\n",
            "134    68.6\n",
            "135    66.7\n",
            "Name: Средний объем эритроцита (MCV), Length: 136, dtype: float64\n",
            "0      74.9\n",
            "1      69.5\n",
            "2      61.3\n",
            "3      67.6\n",
            "4      72.9\n",
            "       ... \n",
            "131    74.0\n",
            "132    64.5\n",
            "133    65.0\n",
            "134    68.6\n",
            "135    66.7\n",
            "Name: Средний объем эритроцита (MCV), Length: 136, dtype: float64\n",
            "<class 'numpy.ndarray'>\n",
            "Index(['Гемоглобин (Hgb)', 'Эритроциты (RBC)', 'Лейкоциты (WBC)',\n",
            "       'Палочкоядерные нейтрофилы (Bands)',\n",
            "       'Сегментоядерные нейтрофилы (Segs)', 'Моноциты (Mono)',\n",
            "       'Тромбоциты (Plt)', 'Средний объем эритроцита (MCV)'],\n",
            "      dtype='object')\n"
          ]
        }
      ]
    },
    {
      "cell_type": "code",
      "source": [
        "dist1.plot(verbose=1)"
      ],
      "metadata": {
        "colab": {
          "base_uri": "https://localhost:8080/",
          "height": 579
        },
        "id": "I_VXw5CN8CJr",
        "outputId": "3f2d6ba1-bb8d-4f7e-afd1-9473dc506da2"
      },
      "execution_count": null,
      "outputs": [
        {
          "output_type": "execute_result",
          "data": {
            "text/plain": [
              "(<Figure size 720x576 with 1 Axes>,\n",
              " <matplotlib.axes._subplots.AxesSubplot at 0x7fb931bb1090>)"
            ]
          },
          "metadata": {},
          "execution_count": 152
        },
        {
          "output_type": "display_data",
          "data": {
            "image/png": "[encoded data removed]",
            "text/plain": [
              "<Figure size 720x576 with 1 Axes>"
            ]
          },
          "metadata": {
            "needs_background": "light"
          }
        }
      ]
    },
    {
      "cell_type": "code",
      "source": [
        "dist1.summary"
      ],
      "metadata": {
        "colab": {
          "base_uri": "https://localhost:8080/",
          "height": 81
        },
        "id": "ptJxdMN88JlE",
        "outputId": "91c37e33-747b-4211-88c8-55bafdf31500"
      },
      "execution_count": null,
      "outputs": [
        {
          "output_type": "execute_result",
          "data": {
            "text/html": [
              "\n",
              "  <div id=\"df-5da1ef4d-9016-49db-965f-1a24b758e7b7\">\n",
              "    <div class=\"colab-df-container\">\n",
              "      <div>\n",
              "<style scoped>\n",
              "    .dataframe tbody tr th:only-of-type {\n",
              "        vertical-align: middle;\n",
              "    }\n",
              "\n",
              "    .dataframe tbody tr th {\n",
              "        vertical-align: top;\n",
              "    }\n",
              "\n",
              "    .dataframe thead th {\n",
              "        text-align: right;\n",
              "    }\n",
              "</style>\n",
              "<table border=\"1\" class=\"dataframe\">\n",
              "  <thead>\n",
              "    <tr style=\"text-align: right;\">\n",
              "      <th></th>\n",
              "      <th>distr</th>\n",
              "      <th>score</th>\n",
              "      <th>LLE</th>\n",
              "      <th>loc</th>\n",
              "      <th>scale</th>\n",
              "      <th>arg</th>\n",
              "    </tr>\n",
              "  </thead>\n",
              "  <tbody>\n",
              "    <tr>\n",
              "      <th>0</th>\n",
              "      <td>dweibull</td>\n",
              "      <td>1.448411</td>\n",
              "      <td>NaN</td>\n",
              "      <td>68.7</td>\n",
              "      <td>2.897139</td>\n",
              "      <td>(0.973505264636795,)</td>\n",
              "    </tr>\n",
              "  </tbody>\n",
              "</table>\n",
              "</div>\n",
              "      <button class=\"colab-df-convert\" onclick=\"convertToInteractive('df-5da1ef4d-9016-49db-965f-1a24b758e7b7')\"\n",
              "              title=\"Convert this dataframe to an interactive table.\"\n",
              "              style=\"display:none;\">\n",
              "        \n",
              "  <svg xmlns=\"http://www.w3.org/2000/svg\" height=\"24px\"viewBox=\"0 0 24 24\"\n",
              "       width=\"24px\">\n",
              "    <path d=\"M0 0h24v24H0V0z\" fill=\"none\"/>\n",
              "    <path d=\"M18.56 5.44l.94 2.06.94-2.06 2.06-.94-2.06-.94-.94-2.06-.94 2.06-2.06.94zm-11 1L8.5 8.5l.94-2.06 2.06-.94-2.06-.94L8.5 2.5l-.94 2.06-2.06.94zm10 10l.94 2.06.94-2.06 2.06-.94-2.06-.94-.94-2.06-.94 2.06-2.06.94z\"/><path d=\"M17.41 7.96l-1.37-1.37c-.4-.4-.92-.59-1.43-.59-.52 0-1.04.2-1.43.59L10.3 9.45l-7.72 7.72c-.78.78-.78 2.05 0 2.83L4 21.41c.39.39.9.59 1.41.59.51 0 1.02-.2 1.41-.59l7.78-7.78 2.81-2.81c.8-.78.8-2.07 0-2.86zM5.41 20L4 18.59l7.72-7.72 1.47 1.35L5.41 20z\"/>\n",
              "  </svg>\n",
              "      </button>\n",
              "      \n",
              "  <style>\n",
              "    .colab-df-container {\n",
              "      display:flex;\n",
              "      flex-wrap:wrap;\n",
              "      gap: 12px;\n",
              "    }\n",
              "\n",
              "    .colab-df-convert {\n",
              "      background-color: #E8F0FE;\n",
              "      border: none;\n",
              "      border-radius: 50%;\n",
              "      cursor: pointer;\n",
              "      display: none;\n",
              "      fill: #1967D2;\n",
              "      height: 32px;\n",
              "      padding: 0 0 0 0;\n",
              "      width: 32px;\n",
              "    }\n",
              "\n",
              "    .colab-df-convert:hover {\n",
              "      background-color: #E2EBFA;\n",
              "      box-shadow: 0px 1px 2px rgba(60, 64, 67, 0.3), 0px 1px 3px 1px rgba(60, 64, 67, 0.15);\n",
              "      fill: #174EA6;\n",
              "    }\n",
              "\n",
              "    [theme=dark] .colab-df-convert {\n",
              "      background-color: #3B4455;\n",
              "      fill: #D2E3FC;\n",
              "    }\n",
              "\n",
              "    [theme=dark] .colab-df-convert:hover {\n",
              "      background-color: #434B5C;\n",
              "      box-shadow: 0px 1px 3px 1px rgba(0, 0, 0, 0.15);\n",
              "      filter: drop-shadow(0px 1px 2px rgba(0, 0, 0, 0.3));\n",
              "      fill: #FFFFFF;\n",
              "    }\n",
              "  </style>\n",
              "\n",
              "      <script>\n",
              "        const buttonEl =\n",
              "          document.querySelector('#df-5da1ef4d-9016-49db-965f-1a24b758e7b7 button.colab-df-convert');\n",
              "        buttonEl.style.display =\n",
              "          google.colab.kernel.accessAllowed ? 'block' : 'none';\n",
              "\n",
              "        async function convertToInteractive(key) {\n",
              "          const element = document.querySelector('#df-5da1ef4d-9016-49db-965f-1a24b758e7b7');\n",
              "          const dataTable =\n",
              "            await google.colab.kernel.invokeFunction('convertToInteractive',\n",
              "                                                     [key], {});\n",
              "          if (!dataTable) return;\n",
              "\n",
              "          const docLinkHtml = 'Like what you see? Visit the ' +\n",
              "            '<a target=\"_blank\" href=https://colab.research.google.com/notebooks/data_table.ipynb>data table notebook</a>'\n",
              "            + ' to learn more about interactive tables.';\n",
              "          element.innerHTML = '';\n",
              "          dataTable['output_type'] = 'display_data';\n",
              "          await google.colab.output.renderOutput(dataTable, element);\n",
              "          const docLink = document.createElement('div');\n",
              "          docLink.innerHTML = docLinkHtml;\n",
              "          element.appendChild(docLink);\n",
              "        }\n",
              "      </script>\n",
              "    </div>\n",
              "  </div>\n",
              "  "
            ],
            "text/plain": [
              "      distr     score  LLE   loc     scale                   arg\n",
              "0  dweibull  1.448411  NaN  68.7  2.897139  (0.973505264636795,)"
            ]
          },
          "metadata": {},
          "execution_count": 153
        }
      ]
    },
    {
      "cell_type": "code",
      "source": [
        "dist1.generate(n=100)"
      ],
      "metadata": {
        "colab": {
          "base_uri": "https://localhost:8080/"
        },
        "id": "nwMGc6AW9GD9",
        "outputId": "a9e18f2a-1c33-441a-f2d5-78c67b41d5dd"
      },
      "execution_count": null,
      "outputs": [
        {
          "output_type": "stream",
          "name": "stdout",
          "text": [
            "[distfit] >Generate 100 dweibull distributed samples with fitted params (0.973505264636795, 68.69999999999999, 2.8971392441333776).\n"
          ]
        },
        {
          "output_type": "execute_result",
          "data": {
            "text/plain": [
              "array([65.94483406, 70.44789646, 62.19736207, 69.20753738, 65.94437135,\n",
              "       66.15568788, 68.49074776, 72.2330816 , 68.30686982, 67.45471052,\n",
              "       65.85990652, 67.5530133 , 63.80526124, 64.99801554, 69.3984578 ,\n",
              "       68.73950637, 70.42963055, 73.80733436, 67.68614131, 74.85903573,\n",
              "       72.29913487, 72.60431547, 65.71335968, 68.66729515, 69.74689146,\n",
              "       68.35233696, 66.924335  , 68.06579364, 69.63732728, 66.68198742,\n",
              "       69.69022162, 69.23348281, 70.55687347, 70.84871195, 73.88925312,\n",
              "       72.2475513 , 79.54782751, 75.55248514, 75.42031371, 69.27199008,\n",
              "       60.55210708, 71.25496607, 60.90604107, 74.90317193, 66.87864901,\n",
              "       68.8365789 , 70.81983675, 70.12014642, 67.29074337, 67.59725018,\n",
              "       71.76669442, 68.89007581, 69.45736378, 69.07760322, 67.03093009,\n",
              "       73.25857367, 68.28428464, 61.34759296, 65.96806535, 68.35154556,\n",
              "       61.34040327, 70.02381186, 79.06235674, 68.01883664, 69.25222291,\n",
              "       64.41671276, 68.87794929, 60.33080459, 68.38509918, 75.17190177,\n",
              "       63.33847646, 79.09514163, 68.1638896 , 55.35564201, 63.15234412,\n",
              "       70.71347126, 70.57087622, 72.40575623, 70.28143319, 68.54761417,\n",
              "       67.14110849, 71.83213769, 65.68275158, 69.18893599, 67.18058726,\n",
              "       69.2012739 , 65.15010937, 70.71272937, 67.19512603, 67.93742817,\n",
              "       73.88004078, 68.44584165, 74.2949668 , 70.80726761, 68.30574871,\n",
              "       68.90320443, 72.67391172, 73.03491752, 68.94255806, 68.85019084])"
            ]
          },
          "metadata": {},
          "execution_count": 154
        }
      ]
    },
    {
      "cell_type": "code",
      "source": [
        "data_wbc = dist1.generate(n=100)\n",
        "df['Средний объем эритроцита (MCV)'] = data_wbc.tolist()\n",
        "print(df)"
      ],
      "metadata": {
        "colab": {
          "base_uri": "https://localhost:8080/"
        },
        "id": "3GJXmd9qaMOk",
        "outputId": "0ff60ed6-fea8-4d9b-d297-939f22586f47"
      },
      "execution_count": null,
      "outputs": [
        {
          "output_type": "stream",
          "name": "stdout",
          "text": [
            "[distfit] >Generate 100 dweibull distributed samples with fitted params (0.973505264636795, 68.69999999999999, 2.8971392441333776).\n",
            "    Лейкоциты (WBC)  ...  Средний объем эритроцита (MCV)\n",
            "0          7.117894  ...                       66.171606\n",
            "1          2.684016  ...                       66.493373\n",
            "2          2.175805  ...                       64.848656\n",
            "3         18.869148  ...                       56.059705\n",
            "4         13.314418  ...                       68.953227\n",
            "..              ...  ...                             ...\n",
            "95         2.027713  ...                       66.575617\n",
            "96        13.186083  ...                       70.123786\n",
            "97         6.797947  ...                       68.340322\n",
            "98        15.071305  ...                       61.926917\n",
            "99         5.462288  ...                       60.044230\n",
            "\n",
            "[100 rows x 8 columns]\n"
          ]
        }
      ]
    },
    {
      "cell_type": "code",
      "source": [
        "df.to_excel(\"output.xlsx\")  "
      ],
      "metadata": {
        "id": "eFXafCkjaSKm"
      },
      "execution_count": null,
      "outputs": []
    },
    {
      "cell_type": "markdown",
      "source": [
        "Сама модель + проверка на ложноположиетльные, ложноотрицательные"
      ],
      "metadata": {
        "id": "zIMETmUIch0d"
      }
    },
    {
      "cell_type": "code",
      "source": [
        "# посленяя версия\n",
        "from sklearn import linear_model\n",
        "from sklearn.utils import shuffle\n",
        "from sklearn.model_selection import cross_val_score\n",
        "from sklearn.metrics import accuracy_score\n",
        "from sklearn.feature_selection import VarianceThreshold\n",
        "\n",
        "def Accurancy_pure(method, data):\n",
        "  data_all_read = data\n",
        "  data_all_read = pd.read_excel('data_312.xlsx')\n",
        "\n",
        "  schedule_step = round((data_all_read.shape[0] - 1) / 2 / 10)\n",
        "  sample_size = round((data_all_read.shape[0] - 1) / 2)\n",
        "  print(sample_size)\n",
        "  training_score = []\n",
        "  test_score = []\n",
        "  help_avarage_training = []\n",
        "  help_avarage_test = []\n",
        "  false_positive_array = []\n",
        "  false_negative_array = []\n",
        "  all_positive_test = 0\n",
        "  all_negative_test = 0\n",
        "  s = 0\n",
        "  i = 0\n",
        "  x = sample_size\n",
        "  scaler = StandardScaler()\n",
        "  x = sample_size % 10\n",
        "  for i in range(schedule_step): \n",
        "    x += 10\n",
        "    help_avarage_test = []\n",
        "    help_avarage_training = []\n",
        "    false_positive_array = []\n",
        "    false_negative_array = []\n",
        "    for j in range(150):\n",
        "      data_all_read = shuffle(data_all_read)\n",
        "      data_all = data_all_read\n",
        "      data_all = shuffle(data_all)\n",
        "      Y = data_all['Болен или нет']\n",
        "      Y_training = Y[:x]\n",
        "      Y_test = Y[x:x+x]\n",
        "      data_all = data_all.drop(columns=['Болен или нет'])\n",
        "      data_all = data_all.drop(columns=['Гемоглобин (Hgb)'])\n",
        "      data_training = data_all[:x]\n",
        "      sel = VarianceThreshold()\n",
        "      data_training = sel.fit_transform(data_training)\n",
        "      data_test = data_all[x:x+x]\n",
        "      data_test = sel.fit_transform(data_test)\n",
        "\n",
        "      clf_poly = method\n",
        "\n",
        "      clf_poly.fit(data_training, Y_training)\n",
        "      pred_poly = clf_poly.predict(data_training)\n",
        "      new_pred_poly = []\n",
        "      for j in pred_poly:\n",
        "        if j <= 0.5:\n",
        "          j = 0\n",
        "        else: \n",
        "          j = 1\n",
        "        new_pred_poly.append(j)\n",
        "      scaler_poly = accuracy_score(Y_training, new_pred_poly)\n",
        "      help_avarage_training.append(scaler_poly)\n",
        "\n",
        "      pred_poly = clf_poly.predict(data_test)\n",
        "      new_pred_poly = []\n",
        "      for j in pred_poly:\n",
        "        if j <= 0.5:\n",
        "          j = 0\n",
        "        else: \n",
        "          j = 1\n",
        "        new_pred_poly.append(j)\n",
        "\n",
        "      scaler_poly = accuracy_score(Y_test, new_pred_poly)\n",
        "      help_avarage_test.append(scaler_poly)\n",
        "\n",
        "      #начинаем проврку на ложно положительный/отрицательны\n",
        "      false_positive = 0\n",
        "      false_negative = 0\n",
        "      Y_test = Y_test.tolist()\n",
        "      for i in range(len(new_pred_poly)):\n",
        "        if (new_pred_poly[i] == 1) and (Y_test[i] == 0):\n",
        "          false_positive += 1\n",
        "        if (new_pred_poly[i] == 0) and (Y_test[i] == 1):\n",
        "          false_negative += 1\n",
        "      false_positive_array.append(false_positive)\n",
        "      false_negative_array.append(false_negative)\n",
        "\n",
        "      #начинаем работать со всеми positive, negative для тестовой выборки\n",
        "      if (int(x) == 150):\n",
        "        all_positive_test += Y_test.count(1)\n",
        "        all_negative_test += Y_test.count(0)\n",
        "\n",
        "    s_training = sum(help_avarage_training)\n",
        "    l_training = len(help_avarage_training)\n",
        "    avarage_training = s_training / l_training\n",
        "    training_score.append(avarage_training)\n",
        "\n",
        "    s_test = sum(help_avarage_test)\n",
        "    l_test = len(help_avarage_test)\n",
        "    avarage_test = s_test / l_test\n",
        "    test_score.append(avarage_test)\n",
        "\n",
        "    # продолжение провекри на false_positive/negative\n",
        "    s_false_positive = sum(false_positive_array)\n",
        "    l_false_positive = len(false_positive_array)\n",
        "    avarage_false_positive = s_false_positive / l_false_positive\n",
        "\n",
        "    s_false_negative = sum(false_negative_array)\n",
        "    l_false_negative = len(false_negative_array)\n",
        "    avarage_false_negative = s_false_negative / l_false_negative\n",
        "\n",
        "    print(training_score)\n",
        "    print(test_score)\n",
        "    print(len(Y_test))\n",
        "    Y_array = []\n",
        "  x = 0\n",
        "  one_slice = len(Y_test) / len(test_score)\n",
        "  l_test = len(test_score)\n",
        "  for i in range(1, l_test+1):\n",
        "    x = one_slice * i\n",
        "    Y_array.append(x)\n",
        "  # 1 когда бы 0 - ложноподожительный\n",
        "  # 0 когда был 1 - ложноотрицательный\n",
        "  #\n",
        "  print('avarage_false_positive', avarage_false_positive)\n",
        "  print('avarage_false_negative', avarage_false_negative)\n",
        "  print('all_false_positive', s_false_positive)\n",
        "  print('all_false_negative', s_false_negative)\n",
        "  print('all_positive_test', all_positive_test)\n",
        "  print('all_negative_test', all_negative_test)\n",
        "  #print(Y_test.value_counts())\n",
        "  print('l_positive', len(false_positive_array))\n",
        "  print('l_negative', len(false_negative_array))\n",
        "  print('poly', len(new_pred_poly))\n",
        "  print(len(help_avarage_test))\n",
        "  plt.plot(Y_array, test_score)\n",
        "  plt.ylabel('score')\n",
        "  plt.xlabel('dogs')\n",
        "  plt.title('Dependence of accurancy on quantity')\n"
      ],
      "metadata": {
        "id": "qz9kWUsawceI"
      },
      "execution_count": null,
      "outputs": []
    },
    {
      "cell_type": "markdown",
      "source": [
        "Начинаем проверять и писать документацию"
      ],
      "metadata": {
        "id": "hbX1FrHEuJGL"
      }
    },
    {
      "cell_type": "code",
      "source": [
        "# посленяя версия\n",
        "from sklearn import linear_model\n",
        "from sklearn.utils import shuffle\n",
        "from sklearn.model_selection import cross_val_score\n",
        "from sklearn.metrics import accuracy_score\n",
        "from sklearn.feature_selection import VarianceThreshold\n",
        "\n",
        "def Accurancy_pure(method, data):\n",
        "  data_all_read = data\n",
        "\n",
        "  schedule_step = round((data_all_read.shape[0] - 1) / 2 / 10)  # шаг для количества собак на графике (условно сколько выборок с разнымколиеством собак у нас будет)\n",
        "  sample_size = round((data_all_read.shape[0] - 1) / 2) # размер тестовой и тренеровочной выборок\n",
        "  print(sample_size)\n",
        "  training_score = []\n",
        "  test_score = []\n",
        "  help_avarage_training = [] # можно убрать, позже прописан\n",
        "  help_avarage_test = [] # можно убрать, позже прописан\n",
        "  false_positive_array = [] # можно убрать, позже прописан\n",
        "  false_negative_array = [] # можно убрать, позже прописан\n",
        "  all_positive_test = 0\n",
        "  all_negative_test = 0\n",
        "  s = 0\n",
        "  i = 0\n",
        "  x = sample_size\n",
        "  scaler = StandardScaler()\n",
        "  x = sample_size % 10 #т.к. по 10 собак будем добавлять в выобку (это эе график зависимсоти качества от количества собак в выборке)\n",
        "  for i in range(schedule_step): \n",
        "    x += 10\n",
        "    help_avarage_test = []\n",
        "    help_avarage_training = []\n",
        "    false_positive_array = []\n",
        "    false_negative_array = []\n",
        "    for j in range(150): # чтобы результат получилс более стабильным и следовательно точным, будем смотреть среднюю точнсть на 150 запусков\n",
        "      data_all_read = shuffle(data_all_read) # перемешиваем данные, чтобы получились новые выборки\n",
        "      data_all = data_all_read\n",
        "      data_all = shuffle(data_all) # опять перемешиваем на всякий случай, думаю можно удалить\n",
        "      Y = data_all['Болен или нет']\n",
        "      Y_training = Y[:x]\n",
        "      Y_test = Y[x:x+x] #т.к. обучающая и тестовя выборки равны, то x + x\n",
        "      data_all = data_all.drop(columns=['Болен или нет'])\n",
        "      data_all = data_all.drop(columns=['Гемоглобин (Hgb)'])\n",
        "      data_training = data_all[:x]\n",
        "      sel = VarianceThreshold() # по идее удаляет фичи с маленькой дисперсией, но здесь пооже, что ничего не меняет, но оставляют т.к. нравится \n",
        "      data_training = sel.fit_transform(data_training)\n",
        "      data_test = data_all[x:x+x]\n",
        "      data_test = sel.fit_transform(data_test)\n",
        "\n",
        "      clf_poly = method\n",
        "\n",
        "      clf_poly.fit(data_training, Y_training) #фитим тренировачные данные\n",
        "      pred_poly = clf_poly.predict(data_training)\n",
        "      new_pred_poly = [] # хранит округлённые предсказания\n",
        "      for j in pred_poly: # механизм округления предсказаний строго в 0 или 1\n",
        "        if j <= 0.5:\n",
        "          j = 0\n",
        "        else: \n",
        "          j = 1\n",
        "        new_pred_poly.append(j)\n",
        "      scaler_poly = accuracy_score(Y_training, new_pred_poly) #считаем эккьюраси \n",
        "      help_avarage_training.append(scaler_poly) #массив содержащий значения точности(эккьраси для дальшейго подсчёта средней точности на 150 запусков)\n",
        "\n",
        "      pred_poly = clf_poly.predict(data_test) #предиктим тест\n",
        "      new_pred_poly = [] #обнуляем для хранения новых значений предсказаний\n",
        "      for j in pred_poly:\n",
        "        if j <= 0.5:\n",
        "          j = 0\n",
        "        else: \n",
        "          j = 1\n",
        "        new_pred_poly.append(j)\n",
        "\n",
        "      scaler_poly = accuracy_score(Y_test, new_pred_poly) #точность теста\n",
        "      help_avarage_test.append(scaler_poly) # массив для средней точности на 150 запусков\n",
        "\n",
        "      #начинаем проврку на ложно положительный/отрицательны\n",
        "      false_positive = 0 #ложноположительный\n",
        "      false_negative = 0 #ложноотрицательный\n",
        "      Y_test = Y_test.tolist() # переводим Series в list, чтобы сравнивать с предсказаниями\n",
        "      for i in range(len(new_pred_poly)):\n",
        "        if (new_pred_poly[i] == 1) and (Y_test[i] == 0): #если собака здорова, а по предсказанию больна\n",
        "          false_positive += 1\n",
        "        if (new_pred_poly[i] == 0) and (Y_test[i] == 1): #если на самом деле больна а по предсказанию здорова\n",
        "          false_negative += 1\n",
        "      false_positive_array.append(false_positive)\n",
        "      false_negative_array.append(false_negative)\n",
        "\n",
        "      #начинаем работать со всеми positive, negative для тестовой выборки\n",
        "      if (int(x) == 150): # когда дмаксимального значения в выборке (150) не путать с количество запусков, хотя здесь оно т же самое\n",
        "        all_positive_test += Y_test.count(1) #колиечство больных собак на тестовую выборку\n",
        "        all_negative_test += Y_test.count(0) #количество здоровых собак на тестовыую выборку\n",
        "    #возвращаемся в трейну\n",
        "    s_training = sum(help_avarage_training) #сумма всех скоров на n собак за 150 запусокв\n",
        "    l_training = len(help_avarage_training) #количество всех скоров на n собак за 150 запусокв\n",
        "    avarage_training = s_training / l_training #среднее значение всех скоров на n собак за 150 запусокв\n",
        "    training_score.append(avarage_training)\n",
        "    #то же самое, но для теста\n",
        "    s_test = sum(help_avarage_test)\n",
        "    l_test = len(help_avarage_test)\n",
        "    avarage_test = s_test / l_test\n",
        "    test_score.append(avarage_test)\n",
        "\n",
        "    # продолжение провекри на false_positive/negative\n",
        "    s_false_positive = sum(false_positive_array) # сумма ложноположительных результатов модели за 150 запусков на n собак\n",
        "    l_false_positive = len(false_positive_array) #количество ложноотрицательных результатов модели\n",
        "    avarage_false_positive = s_false_positive / l_false_positive #среднеезначениеложноположительных значений модели\n",
        "    # то же самое, но для ложноотрицательных\n",
        "    s_false_negative = sum(false_negative_array)\n",
        "    l_false_negative = len(false_negative_array)\n",
        "    avarage_false_negative = s_false_negative / l_false_negative\n",
        "\n",
        "    print(training_score)\n",
        "    print(test_score)\n",
        "    print(len(Y_test))\n",
        "    Y_array = []\n",
        "  x = 0\n",
        "  one_slice = len(Y_test) / len(test_score) #количество зупосков(150) разделённое на количество запусов с шагом, это даёт нам шаг для графика, в данном случае это и есть x\n",
        "  l_test = len(test_score)\n",
        "  for i in range(1, l_test+1): # даёт массив состоящий из значений количетств собак при разном шаге (нужно для графика)\n",
        "    x = one_slice * i\n",
        "    Y_array.append(x)\n",
        "  # 1 когда был 0 - ложноподожительный\n",
        "  # 0 когда был 1 - ложноотрицательный\n",
        "  #\n",
        "  print('avarage_false_positive', avarage_false_positive) #среднее количество ложно положительных на 150 собак (последний шаг) за 150 запусков\n",
        "  print('avarage_false_negative', avarage_false_negative)\n",
        "  print('all_false_positive', s_false_positive)\n",
        "  print('all_false_negative', s_false_negative)\n",
        "  print('all_positive_test', all_positive_test)\n",
        "  print('all_negative_test', all_negative_test)\n",
        "  #print(Y_test.value_counts())\n",
        "  print('l_positive', len(false_positive_array))\n",
        "  print(len(help_avarage_test))\n",
        "  #начинаем строить график\n",
        "  plt.plot(Y_array, test_score) #по оси x количество собак, по y точность(score) на них\n",
        "  plt.ylabel('score')\n",
        "  plt.xlabel('dogs')\n",
        "  plt.title('Dependence of accurancy on quantity')\n"
      ],
      "metadata": {
        "id": "VPVO-S-GuIcB"
      },
      "execution_count": null,
      "outputs": []
    },
    {
      "cell_type": "code",
      "source": [
        "data_all_read = pd.read_excel('data_312.xlsx')\n",
        "Accurancy_pure(linear_model.LinearRegression(), data_all_read)"
      ],
      "metadata": {
        "colab": {
          "base_uri": "https://localhost:8080/",
          "height": 1000
        },
        "id": "XfMDw1cC02WM",
        "outputId": "bc0081c7-add5-4506-ece3-d64b21a5f817"
      },
      "execution_count": null,
      "outputs": [
        {
          "output_type": "stream",
          "name": "stdout",
          "text": [
            "150\n",
            "[0.9986666666666667]\n",
            "[0.8246666666666677]\n",
            "10\n",
            "[0.9986666666666667, 0.9810000000000006]\n",
            "[0.8246666666666677, 0.9006666666666672]\n",
            "20\n",
            "[0.9986666666666667, 0.9810000000000006, 0.9748888888888897]\n",
            "[0.8246666666666677, 0.9006666666666672, 0.91688888888889]\n",
            "30\n",
            "[0.9986666666666667, 0.9810000000000006, 0.9748888888888897, 0.9654999999999991]\n",
            "[0.8246666666666677, 0.9006666666666672, 0.91688888888889, 0.9310000000000004]\n",
            "40\n",
            "[0.9986666666666667, 0.9810000000000006, 0.9748888888888897, 0.9654999999999991, 0.9622666666666657]\n",
            "[0.8246666666666677, 0.9006666666666672, 0.91688888888889, 0.9310000000000004, 0.9363999999999993]\n",
            "50\n",
            "[0.9986666666666667, 0.9810000000000006, 0.9748888888888897, 0.9654999999999991, 0.9622666666666657, 0.955444444444445]\n",
            "[0.8246666666666677, 0.9006666666666672, 0.91688888888889, 0.9310000000000004, 0.9363999999999993, 0.9317777777777786]\n",
            "60\n",
            "[0.9986666666666667, 0.9810000000000006, 0.9748888888888897, 0.9654999999999991, 0.9622666666666657, 0.955444444444445, 0.9560952380952369]\n",
            "[0.8246666666666677, 0.9006666666666672, 0.91688888888889, 0.9310000000000004, 0.9363999999999993, 0.9317777777777786, 0.9359999999999995]\n",
            "70\n",
            "[0.9986666666666667, 0.9810000000000006, 0.9748888888888897, 0.9654999999999991, 0.9622666666666657, 0.955444444444445, 0.9560952380952369, 0.9506666666666664]\n",
            "[0.8246666666666677, 0.9006666666666672, 0.91688888888889, 0.9310000000000004, 0.9363999999999993, 0.9317777777777786, 0.9359999999999995, 0.9360833333333333]\n",
            "80\n",
            "[0.9986666666666667, 0.9810000000000006, 0.9748888888888897, 0.9654999999999991, 0.9622666666666657, 0.955444444444445, 0.9560952380952369, 0.9506666666666664, 0.9514814814814808]\n",
            "[0.8246666666666677, 0.9006666666666672, 0.91688888888889, 0.9310000000000004, 0.9363999999999993, 0.9317777777777786, 0.9359999999999995, 0.9360833333333333, 0.9327407407407404]\n",
            "90\n",
            "[0.9986666666666667, 0.9810000000000006, 0.9748888888888897, 0.9654999999999991, 0.9622666666666657, 0.955444444444445, 0.9560952380952369, 0.9506666666666664, 0.9514814814814808, 0.9500666666666663]\n",
            "[0.8246666666666677, 0.9006666666666672, 0.91688888888889, 0.9310000000000004, 0.9363999999999993, 0.9317777777777786, 0.9359999999999995, 0.9360833333333333, 0.9327407407407404, 0.9375333333333333]\n",
            "100\n",
            "[0.9986666666666667, 0.9810000000000006, 0.9748888888888897, 0.9654999999999991, 0.9622666666666657, 0.955444444444445, 0.9560952380952369, 0.9506666666666664, 0.9514814814814808, 0.9500666666666663, 0.948848484848486]\n",
            "[0.8246666666666677, 0.9006666666666672, 0.91688888888889, 0.9310000000000004, 0.9363999999999993, 0.9317777777777786, 0.9359999999999995, 0.9360833333333333, 0.9327407407407404, 0.9375333333333333, 0.9393939393939401]\n",
            "110\n",
            "[0.9986666666666667, 0.9810000000000006, 0.9748888888888897, 0.9654999999999991, 0.9622666666666657, 0.955444444444445, 0.9560952380952369, 0.9506666666666664, 0.9514814814814808, 0.9500666666666663, 0.948848484848486, 0.9490555555555559]\n",
            "[0.8246666666666677, 0.9006666666666672, 0.91688888888889, 0.9310000000000004, 0.9363999999999993, 0.9317777777777786, 0.9359999999999995, 0.9360833333333333, 0.9327407407407404, 0.9375333333333333, 0.9393939393939401, 0.9383333333333336]\n",
            "120\n",
            "[0.9986666666666667, 0.9810000000000006, 0.9748888888888897, 0.9654999999999991, 0.9622666666666657, 0.955444444444445, 0.9560952380952369, 0.9506666666666664, 0.9514814814814808, 0.9500666666666663, 0.948848484848486, 0.9490555555555559, 0.9488205128205124]\n",
            "[0.8246666666666677, 0.9006666666666672, 0.91688888888889, 0.9310000000000004, 0.9363999999999993, 0.9317777777777786, 0.9359999999999995, 0.9360833333333333, 0.9327407407407404, 0.9375333333333333, 0.9393939393939401, 0.9383333333333336, 0.9374871794871793]\n",
            "130\n",
            "[0.9986666666666667, 0.9810000000000006, 0.9748888888888897, 0.9654999999999991, 0.9622666666666657, 0.955444444444445, 0.9560952380952369, 0.9506666666666664, 0.9514814814814808, 0.9500666666666663, 0.948848484848486, 0.9490555555555559, 0.9488205128205124, 0.9477142857142847]\n",
            "[0.8246666666666677, 0.9006666666666672, 0.91688888888889, 0.9310000000000004, 0.9363999999999993, 0.9317777777777786, 0.9359999999999995, 0.9360833333333333, 0.9327407407407404, 0.9375333333333333, 0.9393939393939401, 0.9383333333333336, 0.9374871794871793, 0.9389999999999994]\n",
            "140\n",
            "[0.9986666666666667, 0.9810000000000006, 0.9748888888888897, 0.9654999999999991, 0.9622666666666657, 0.955444444444445, 0.9560952380952369, 0.9506666666666664, 0.9514814814814808, 0.9500666666666663, 0.948848484848486, 0.9490555555555559, 0.9488205128205124, 0.9477142857142847, 0.9471999999999999]\n",
            "[0.8246666666666677, 0.9006666666666672, 0.91688888888889, 0.9310000000000004, 0.9363999999999993, 0.9317777777777786, 0.9359999999999995, 0.9360833333333333, 0.9327407407407404, 0.9375333333333333, 0.9393939393939401, 0.9383333333333336, 0.9374871794871793, 0.9389999999999994, 0.9373333333333331]\n",
            "150\n",
            "avarage_false_positive 6.98\n",
            "avarage_false_negative 2.42\n",
            "all_false_positive 1047\n",
            "all_false_negative 363\n",
            "all_positive_test 17720\n",
            "all_negative_test 4780\n",
            "l_positive 150\n",
            "150\n"
          ]
        },
        {
          "output_type": "display_data",
          "data": {
            "text/plain": [
              "<Figure size 432x288 with 1 Axes>"
            ],
            "image/png": "[encoded data removed]"
          },
          "metadata": {
            "needs_background": "light"
          }
        }
      ]
    }
  ]
}