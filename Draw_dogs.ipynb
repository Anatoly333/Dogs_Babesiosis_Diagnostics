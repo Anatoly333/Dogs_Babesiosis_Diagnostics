{
  "nbformat": 4,
  "nbformat_minor": 0,
  "metadata": {
    "colab": {
      "name": "Draw_dogs.ipynb",
      "provenance": [],
      "authorship_tag": "ABX9TyNVoY+dwYHWpXoghV7ONqu/",
      "include_colab_link": true
    },
    "kernelspec": {
      "name": "python3",
      "display_name": "Python 3"
    },
    "language_info": {
      "name": "python"
    }
  },
  "cells": [
    {
      "cell_type": "markdown",
      "metadata": {
        "id": "view-in-github",
        "colab_type": "text"
      },
      "source": [
        "<a href=\"https://colab.research.google.com/github/Anatoly333/Dogs_Babesiosis_Diagnostics/blob/main/Draw_dogs.ipynb\" target=\"_parent\"><img src=\"https://colab.research.google.com/assets/colab-badge.svg\" alt=\"Open In Colab\"/></a>"
      ]
    },
    {
      "cell_type": "code",
      "execution_count": 1,
      "metadata": {
        "id": "5MfG6eqQ9XWC"
      },
      "outputs": [],
      "source": [
        "# Библиотека для работы с матрицами\n",
        "import numpy as np \n",
        "\n",
        "# Алгоритмы линейной алгебры\n",
        "import scipy.linalg as sla\n",
        "\n",
        "import math\n",
        "\n",
        "import pandas as pd"
      ]
    },
    {
      "cell_type": "code",
      "source": [
        "data = pd.read_excel('data_all_no_emissions.xlsx')"
      ],
      "metadata": {
        "id": "hbSalBGY9erb"
      },
      "execution_count": 2,
      "outputs": []
    },
    {
      "cell_type": "code",
      "source": [
        "data = data.drop(columns=['Болен или нет'])\n",
        "data = data.drop(columns=['Гемоглобин (Hgb)'])"
      ],
      "metadata": {
        "id": "mERwW758Gq86"
      },
      "execution_count": 3,
      "outputs": []
    },
    {
      "cell_type": "markdown",
      "source": [
        "Начинаем"
      ],
      "metadata": {
        "id": "Y2E3n_yaJ-ns"
      }
    },
    {
      "cell_type": "code",
      "source": [
        "import random\n",
        "from scipy.linalg import qr\n",
        "\n",
        "x = []\n",
        "y = []\n",
        "help_array = []\n",
        "i = 0\n",
        "for i in range (7):\n",
        "  a_x = random.randint(-5,5)\n",
        "  a_y = random.randint(-5,5)\n",
        "  help_array.append(a_x)\n",
        "  help_array.append(a_y)\n",
        "  x.append(a_x)\n",
        "  y.append(a_y)\n",
        "vector_x = np.array(x)\n",
        "vector_y = np.array(y)\n",
        "print(vector_x)\n",
        "print(vector_y)\n",
        "\n",
        "u1 = vector_x \n",
        "proj = np.dot(u1, vector_y) / np.dot(u1, u1) * u1 \n",
        "u2 = vector_y - proj\n",
        "print(u2)\n",
        "norm = np.linalg.norm(u1)\n",
        "print(norm)\n",
        "e1 = u1 /  np.linalg.norm(u1)\n",
        "e2 = u2 / np.linalg.norm(u2)\n",
        "print(e1)\n",
        "print(e2)"
      ],
      "metadata": {
        "colab": {
          "base_uri": "https://localhost:8080/"
        },
        "id": "pYpKRkUlJaRG",
        "outputId": "52028b36-6579-44cd-c78c-a8ecfaac97ae"
      },
      "execution_count": 4,
      "outputs": [
        {
          "output_type": "stream",
          "name": "stdout",
          "text": [
            "[ 2 -2 -3  1 -1  0 -1]\n",
            "[-1  1 -2  4 -1  3  5]\n",
            "[-1.2  1.2 -1.7  3.9 -0.9  3.   5.1]\n",
            "4.47213595499958\n",
            "[ 0.4472136  -0.4472136  -0.67082039  0.2236068  -0.2236068   0.\n",
            " -0.2236068 ]\n",
            "[-0.15922347  0.15922347 -0.22556658  0.51747627 -0.1194176   0.39805867\n",
            "  0.67669974]\n"
          ]
        }
      ]
    },
    {
      "cell_type": "code",
      "source": [
        "data_std = data.copy()\n",
        "\n",
        "i = 0\n",
        "j = 0\n",
        "names = data.columns\n",
        "\n",
        "for i in range(7):\n",
        "  std = float(np.std(data_std.iloc[:, [i]]))\n",
        "  for j in range(len(data_std.iloc[:, [0]])):\n",
        "    data_std[names[i]].iloc[j] = data_std.iloc[j][i] / std\n",
        "print(data_std)"
      ],
      "metadata": {
        "colab": {
          "base_uri": "https://localhost:8080/"
        },
        "id": "J9svz-urJe9D",
        "outputId": "cc9da0e7-a123-410a-f461-d26de40d3769"
      },
      "execution_count": 14,
      "outputs": [
        {
          "output_type": "stream",
          "name": "stderr",
          "text": [
            "/usr/local/lib/python3.7/dist-packages/pandas/core/indexing.py:1732: SettingWithCopyWarning: \n",
            "A value is trying to be set on a copy of a slice from a DataFrame\n",
            "\n",
            "See the caveats in the documentation: https://pandas.pydata.org/pandas-docs/stable/user_guide/indexing.html#returning-a-view-versus-a-copy\n",
            "  self._setitem_single_block(indexer, value, name)\n"
          ]
        },
        {
          "output_type": "stream",
          "name": "stdout",
          "text": [
            "     Эритроциты (RBC)  Лейкоциты (WBC)  Палочкоядерные нейтрофилы (Bands)  \\\n",
            "0            2.382512         1.962783                           1.171941   \n",
            "1            3.721444         0.379174                           0.000000   \n",
            "2            3.964289         0.646826                           0.703164   \n",
            "3            2.901020         0.524152                           0.234388   \n",
            "4            4.213698         0.579913                           0.000000   \n",
            "..                ...              ...                                ...   \n",
            "195          5.211334         1.070609                           0.000000   \n",
            "196          3.970853         1.516696                           0.000000   \n",
            "197          4.272769         1.037152                           0.000000   \n",
            "198          1.864003         0.702587                           1.171941   \n",
            "199          4.194008         0.468391                           0.000000   \n",
            "\n",
            "     Сегментоядерные нейтрофилы (Segs)  Моноциты (Mono)  Тромбоциты (Plt)  \\\n",
            "0                             4.669845         1.733262          0.014713   \n",
            "1                             3.554658         2.678678          0.132419   \n",
            "2                             4.460747         1.575693          0.014713   \n",
            "3                             4.669845         2.048401          0.014713   \n",
            "4                             3.833455         1.890831          0.080923   \n",
            "..                                 ...              ...               ...   \n",
            "195                           5.018340         0.315139          1.795019   \n",
            "196                           5.436535         1.890831          1.964222   \n",
            "197                           4.321349         0.157569          1.471327   \n",
            "198                           0.836390         5.987633          0.073566   \n",
            "199                           5.088040         1.733262          0.073566   \n",
            "\n",
            "     Средний объем эритроцита (MCV)  \n",
            "0                         14.024632  \n",
            "1                         13.013510  \n",
            "2                         11.478103  \n",
            "3                         12.657745  \n",
            "4                         13.650142  \n",
            "..                              ...  \n",
            "195                       12.526674  \n",
            "196                       13.331826  \n",
            "197                       13.425449  \n",
            "198                       12.732643  \n",
            "199                       12.713918  \n",
            "\n",
            "[200 rows x 7 columns]\n"
          ]
        }
      ]
    },
    {
      "cell_type": "code",
      "source": [
        "health_dogs = data_std[:136]\n",
        "sick_dogs = data_std[136:]"
      ],
      "metadata": {
        "id": "lsjJzoS3Jlj9"
      },
      "execution_count": 15,
      "outputs": []
    },
    {
      "cell_type": "code",
      "source": [
        "vectors_array = []\n",
        "i = 0\n",
        "help_array = []\n",
        "for i in range(200):\n",
        "  help_array.append(np.dot(data_std.iloc[i], e1))\n",
        "  help_array.append(np.dot(data_std.iloc[i], e2))\n",
        "  vectors_array.append(list(help_array))\n",
        "  help_array.clear()"
      ],
      "metadata": {
        "id": "m_B28n7dJqFv"
      },
      "execution_count": 16,
      "outputs": []
    },
    {
      "cell_type": "code",
      "source": [
        "x_array_health = []\n",
        "y_array_health = []\n",
        "x_array_sick = []\n",
        "y_array_sick = []\n",
        "i = 0\n",
        "\n",
        "for i in range(136):\n",
        "  x_array_health.append(np.dot(health_dogs.iloc[i], e1))\n",
        "  y_array_health.append(np.dot(health_dogs.iloc[i], e2))\n",
        "for i in range(64):\n",
        "  x_array_sick.append(np.dot(sick_dogs.iloc[i], e1))\n",
        "  y_array_sick.append(np.dot(sick_dogs.iloc[i], e2))\n",
        "  "
      ],
      "metadata": {
        "id": "RAXCIVC-JrmU"
      },
      "execution_count": 17,
      "outputs": []
    },
    {
      "cell_type": "code",
      "source": [
        "import matplotlib.pyplot as plt\n",
        "\n",
        "plt.plot(x_array_health, y_array_health, 'bo', x_array_sick, y_array_sick, 'r^')\n",
        "plt.title('Eight-dimensional dogs')\n",
        "plt.ylabel('y_vector')\n",
        "plt.xlabel('x_vector')"
      ],
      "metadata": {
        "colab": {
          "base_uri": "https://localhost:8080/",
          "height": 314
        },
        "id": "VRzdne5rJ8zP",
        "outputId": "7b2aa365-8019-4485-d059-bee1fa080a86"
      },
      "execution_count": 18,
      "outputs": [
        {
          "output_type": "execute_result",
          "data": {
            "text/plain": [
              "Text(0.5, 0, 'x_vector')"
            ]
          },
          "metadata": {},
          "execution_count": 18
        },
        {
          "output_type": "display_data",
          "data": {
            "text/plain": [
              "<Figure size 432x288 with 1 Axes>"
            ],
            "image/png": "[encoded data removed]"
          },
          "metadata": {
            "needs_background": "light"
          }
        }
      ]
    }
  ]
}